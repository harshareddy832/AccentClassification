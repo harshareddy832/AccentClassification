{
  "nbformat": 4,
  "nbformat_minor": 0,
  "metadata": {
    "colab": {
      "provenance": [],
      "gpuType": "V100",
      "machine_shape": "hm"
    },
    "kernelspec": {
      "name": "python3",
      "display_name": "Python 3"
    },
    "language_info": {
      "name": "python"
    },
    "accelerator": "GPU",
    "widgets": {
      "application/vnd.jupyter.widget-state+json": {
        "8451e64a5b134326958d4a1c5743c84e": {
          "model_module": "@jupyter-widgets/controls",
          "model_name": "HBoxModel",
          "model_module_version": "1.5.0",
          "state": {
            "_dom_classes": [],
            "_model_module": "@jupyter-widgets/controls",
            "_model_module_version": "1.5.0",
            "_model_name": "HBoxModel",
            "_view_count": null,
            "_view_module": "@jupyter-widgets/controls",
            "_view_module_version": "1.5.0",
            "_view_name": "HBoxView",
            "box_style": "",
            "children": [
              "IPY_MODEL_1eaa6fcacc134457abd7946691d219c5",
              "IPY_MODEL_bffe66e3b1c54566bfff5bf84682b119",
              "IPY_MODEL_d1fc32cd12b34b458130672b7267f08c"
            ],
            "layout": "IPY_MODEL_d71ea550dc844fe79f938dbf1d2c770a"
          }
        },
        "1eaa6fcacc134457abd7946691d219c5": {
          "model_module": "@jupyter-widgets/controls",
          "model_name": "HTMLModel",
          "model_module_version": "1.5.0",
          "state": {
            "_dom_classes": [],
            "_model_module": "@jupyter-widgets/controls",
            "_model_module_version": "1.5.0",
            "_model_name": "HTMLModel",
            "_view_count": null,
            "_view_module": "@jupyter-widgets/controls",
            "_view_module_version": "1.5.0",
            "_view_name": "HTMLView",
            "description": "",
            "description_tooltip": null,
            "layout": "IPY_MODEL_b28d7870f48a4e439dcc78f8f7ecefed",
            "placeholder": "​",
            "style": "IPY_MODEL_ef4742aca4fd4e76899bf6f5d7d71589",
            "value": "Extracting MFCC: 100%"
          }
        },
        "bffe66e3b1c54566bfff5bf84682b119": {
          "model_module": "@jupyter-widgets/controls",
          "model_name": "FloatProgressModel",
          "model_module_version": "1.5.0",
          "state": {
            "_dom_classes": [],
            "_model_module": "@jupyter-widgets/controls",
            "_model_module_version": "1.5.0",
            "_model_name": "FloatProgressModel",
            "_view_count": null,
            "_view_module": "@jupyter-widgets/controls",
            "_view_module_version": "1.5.0",
            "_view_name": "ProgressView",
            "bar_style": "success",
            "description": "",
            "description_tooltip": null,
            "layout": "IPY_MODEL_93ed3b47a0bc488fb186408ba40f5b79",
            "max": 2138,
            "min": 0,
            "orientation": "horizontal",
            "style": "IPY_MODEL_de2467daf2af44dba6698ff4c113ee7d",
            "value": 2138
          }
        },
        "d1fc32cd12b34b458130672b7267f08c": {
          "model_module": "@jupyter-widgets/controls",
          "model_name": "HTMLModel",
          "model_module_version": "1.5.0",
          "state": {
            "_dom_classes": [],
            "_model_module": "@jupyter-widgets/controls",
            "_model_module_version": "1.5.0",
            "_model_name": "HTMLModel",
            "_view_count": null,
            "_view_module": "@jupyter-widgets/controls",
            "_view_module_version": "1.5.0",
            "_view_name": "HTMLView",
            "description": "",
            "description_tooltip": null,
            "layout": "IPY_MODEL_dc47027dd330478f90ae376640a3c49e",
            "placeholder": "​",
            "style": "IPY_MODEL_167a504a8f0245b296c3af1b76a223d8",
            "value": " 2138/2138 [05:36&lt;00:00, 12.72it/s]"
          }
        },
        "d71ea550dc844fe79f938dbf1d2c770a": {
          "model_module": "@jupyter-widgets/base",
          "model_name": "LayoutModel",
          "model_module_version": "1.2.0",
          "state": {
            "_model_module": "@jupyter-widgets/base",
            "_model_module_version": "1.2.0",
            "_model_name": "LayoutModel",
            "_view_count": null,
            "_view_module": "@jupyter-widgets/base",
            "_view_module_version": "1.2.0",
            "_view_name": "LayoutView",
            "align_content": null,
            "align_items": null,
            "align_self": null,
            "border": null,
            "bottom": null,
            "display": null,
            "flex": null,
            "flex_flow": null,
            "grid_area": null,
            "grid_auto_columns": null,
            "grid_auto_flow": null,
            "grid_auto_rows": null,
            "grid_column": null,
            "grid_gap": null,
            "grid_row": null,
            "grid_template_areas": null,
            "grid_template_columns": null,
            "grid_template_rows": null,
            "height": null,
            "justify_content": null,
            "justify_items": null,
            "left": null,
            "margin": null,
            "max_height": null,
            "max_width": null,
            "min_height": null,
            "min_width": null,
            "object_fit": null,
            "object_position": null,
            "order": null,
            "overflow": null,
            "overflow_x": null,
            "overflow_y": null,
            "padding": null,
            "right": null,
            "top": null,
            "visibility": null,
            "width": null
          }
        },
        "b28d7870f48a4e439dcc78f8f7ecefed": {
          "model_module": "@jupyter-widgets/base",
          "model_name": "LayoutModel",
          "model_module_version": "1.2.0",
          "state": {
            "_model_module": "@jupyter-widgets/base",
            "_model_module_version": "1.2.0",
            "_model_name": "LayoutModel",
            "_view_count": null,
            "_view_module": "@jupyter-widgets/base",
            "_view_module_version": "1.2.0",
            "_view_name": "LayoutView",
            "align_content": null,
            "align_items": null,
            "align_self": null,
            "border": null,
            "bottom": null,
            "display": null,
            "flex": null,
            "flex_flow": null,
            "grid_area": null,
            "grid_auto_columns": null,
            "grid_auto_flow": null,
            "grid_auto_rows": null,
            "grid_column": null,
            "grid_gap": null,
            "grid_row": null,
            "grid_template_areas": null,
            "grid_template_columns": null,
            "grid_template_rows": null,
            "height": null,
            "justify_content": null,
            "justify_items": null,
            "left": null,
            "margin": null,
            "max_height": null,
            "max_width": null,
            "min_height": null,
            "min_width": null,
            "object_fit": null,
            "object_position": null,
            "order": null,
            "overflow": null,
            "overflow_x": null,
            "overflow_y": null,
            "padding": null,
            "right": null,
            "top": null,
            "visibility": null,
            "width": null
          }
        },
        "ef4742aca4fd4e76899bf6f5d7d71589": {
          "model_module": "@jupyter-widgets/controls",
          "model_name": "DescriptionStyleModel",
          "model_module_version": "1.5.0",
          "state": {
            "_model_module": "@jupyter-widgets/controls",
            "_model_module_version": "1.5.0",
            "_model_name": "DescriptionStyleModel",
            "_view_count": null,
            "_view_module": "@jupyter-widgets/base",
            "_view_module_version": "1.2.0",
            "_view_name": "StyleView",
            "description_width": ""
          }
        },
        "93ed3b47a0bc488fb186408ba40f5b79": {
          "model_module": "@jupyter-widgets/base",
          "model_name": "LayoutModel",
          "model_module_version": "1.2.0",
          "state": {
            "_model_module": "@jupyter-widgets/base",
            "_model_module_version": "1.2.0",
            "_model_name": "LayoutModel",
            "_view_count": null,
            "_view_module": "@jupyter-widgets/base",
            "_view_module_version": "1.2.0",
            "_view_name": "LayoutView",
            "align_content": null,
            "align_items": null,
            "align_self": null,
            "border": null,
            "bottom": null,
            "display": null,
            "flex": null,
            "flex_flow": null,
            "grid_area": null,
            "grid_auto_columns": null,
            "grid_auto_flow": null,
            "grid_auto_rows": null,
            "grid_column": null,
            "grid_gap": null,
            "grid_row": null,
            "grid_template_areas": null,
            "grid_template_columns": null,
            "grid_template_rows": null,
            "height": null,
            "justify_content": null,
            "justify_items": null,
            "left": null,
            "margin": null,
            "max_height": null,
            "max_width": null,
            "min_height": null,
            "min_width": null,
            "object_fit": null,
            "object_position": null,
            "order": null,
            "overflow": null,
            "overflow_x": null,
            "overflow_y": null,
            "padding": null,
            "right": null,
            "top": null,
            "visibility": null,
            "width": null
          }
        },
        "de2467daf2af44dba6698ff4c113ee7d": {
          "model_module": "@jupyter-widgets/controls",
          "model_name": "ProgressStyleModel",
          "model_module_version": "1.5.0",
          "state": {
            "_model_module": "@jupyter-widgets/controls",
            "_model_module_version": "1.5.0",
            "_model_name": "ProgressStyleModel",
            "_view_count": null,
            "_view_module": "@jupyter-widgets/base",
            "_view_module_version": "1.2.0",
            "_view_name": "StyleView",
            "bar_color": null,
            "description_width": ""
          }
        },
        "dc47027dd330478f90ae376640a3c49e": {
          "model_module": "@jupyter-widgets/base",
          "model_name": "LayoutModel",
          "model_module_version": "1.2.0",
          "state": {
            "_model_module": "@jupyter-widgets/base",
            "_model_module_version": "1.2.0",
            "_model_name": "LayoutModel",
            "_view_count": null,
            "_view_module": "@jupyter-widgets/base",
            "_view_module_version": "1.2.0",
            "_view_name": "LayoutView",
            "align_content": null,
            "align_items": null,
            "align_self": null,
            "border": null,
            "bottom": null,
            "display": null,
            "flex": null,
            "flex_flow": null,
            "grid_area": null,
            "grid_auto_columns": null,
            "grid_auto_flow": null,
            "grid_auto_rows": null,
            "grid_column": null,
            "grid_gap": null,
            "grid_row": null,
            "grid_template_areas": null,
            "grid_template_columns": null,
            "grid_template_rows": null,
            "height": null,
            "justify_content": null,
            "justify_items": null,
            "left": null,
            "margin": null,
            "max_height": null,
            "max_width": null,
            "min_height": null,
            "min_width": null,
            "object_fit": null,
            "object_position": null,
            "order": null,
            "overflow": null,
            "overflow_x": null,
            "overflow_y": null,
            "padding": null,
            "right": null,
            "top": null,
            "visibility": null,
            "width": null
          }
        },
        "167a504a8f0245b296c3af1b76a223d8": {
          "model_module": "@jupyter-widgets/controls",
          "model_name": "DescriptionStyleModel",
          "model_module_version": "1.5.0",
          "state": {
            "_model_module": "@jupyter-widgets/controls",
            "_model_module_version": "1.5.0",
            "_model_name": "DescriptionStyleModel",
            "_view_count": null,
            "_view_module": "@jupyter-widgets/base",
            "_view_module_version": "1.2.0",
            "_view_name": "StyleView",
            "description_width": ""
          }
        }
      }
    }
  },
  "cells": [
    {
      "cell_type": "code",
      "source": [
        "!pip install pydub\n",
        "!pip install pickle5"
      ],
      "metadata": {
        "colab": {
          "base_uri": "https://localhost:8080/"
        },
        "id": "WPi6F3hPaXPi",
        "outputId": "f23e0303-a01b-4144-e91b-19a0d714c2a7"
      },
      "execution_count": 1,
      "outputs": [
        {
          "output_type": "stream",
          "name": "stdout",
          "text": [
            "Collecting pydub\n",
            "  Downloading pydub-0.25.1-py2.py3-none-any.whl (32 kB)\n",
            "Installing collected packages: pydub\n",
            "Successfully installed pydub-0.25.1\n",
            "Collecting pickle5\n",
            "  Downloading pickle5-0.0.11.tar.gz (132 kB)\n",
            "\u001b[2K     \u001b[90m━━━━━━━━━━━━━━━━━━━━━━━━━━━━━━━━━━━━━━━━\u001b[0m \u001b[32m132.1/132.1 kB\u001b[0m \u001b[31m3.7 MB/s\u001b[0m eta \u001b[36m0:00:00\u001b[0m\n",
            "\u001b[?25h  Preparing metadata (setup.py) ... \u001b[?25l\u001b[?25hdone\n",
            "Building wheels for collected packages: pickle5\n",
            "  Building wheel for pickle5 (setup.py) ... \u001b[?25l\u001b[?25hdone\n",
            "  Created wheel for pickle5: filename=pickle5-0.0.11-cp310-cp310-linux_x86_64.whl size=255316 sha256=3938e839566ae80c8b48fe1748c5e3355a2e46f9b895d9d671609db8f7ffafcc\n",
            "  Stored in directory: /root/.cache/pip/wheels/7d/14/ef/4aab19d27fa8e58772be5c71c16add0426acf9e1f64353235c\n",
            "Successfully built pickle5\n",
            "Installing collected packages: pickle5\n",
            "Successfully installed pickle5-0.0.11\n"
          ]
        }
      ]
    },
    {
      "cell_type": "markdown",
      "source": [],
      "metadata": {
        "id": "5wqTwYi7aXIx"
      }
    },
    {
      "cell_type": "code",
      "source": [
        "import matplotlib.pyplot as plt\n",
        "import numpy as np\n",
        "import pandas as pd\n",
        "import librosa\n",
        "import librosa.display\n",
        "import json\n",
        "from tqdm import tqdm\n",
        "import os\n",
        "import tensorflow as tf\n",
        "\n",
        "\n",
        "import IPython.display\n",
        "import sklearn.preprocessing\n",
        "from sklearn.model_selection import train_test_split\n",
        "from tensorflow.keras.utils import to_categorical\n",
        "from tensorflow.keras.models import Sequential\n",
        "from tensorflow.keras.layers import Activation, Dense, Dropout, Flatten, Conv2D, MaxPooling2D\n",
        "from tensorflow.keras.callbacks import TensorBoard\n",
        "from tensorflow.keras.metrics import binary_crossentropy\n",
        "from tensorflow.keras.optimizers import Adam\n",
        "from sklearn.metrics import  f1_score\n",
        "from tensorflow.keras.callbacks import Callback\n",
        "import tensorflow.keras.backend as K\n",
        "import librosa\n",
        "from tensorflow import keras\n",
        "from keras.callbacks import Callback\n",
        "from keras.callbacks import TensorBoard\n",
        "import pydub\n",
        "import pickle5 as pickle\n",
        "import librosa.display\n",
        "import os"
      ],
      "metadata": {
        "id": "Eg85dpoyKZzd"
      },
      "execution_count": 2,
      "outputs": []
    },
    {
      "cell_type": "code",
      "source": [
        "try:\n",
        "    from google.colab import drive\n",
        "    drive.mount('/content/drive')\n",
        "except Exception as e:\n",
        "    print(f\"Error mounting Google Drive: {e}\")\n"
      ],
      "metadata": {
        "colab": {
          "base_uri": "https://localhost:8080/"
        },
        "id": "KzSrys97P4Dq",
        "outputId": "7ffa5e79-1ce0-443d-a8ca-bcb33068477b"
      },
      "execution_count": 3,
      "outputs": [
        {
          "output_type": "stream",
          "name": "stdout",
          "text": [
            "Mounted at /content/drive\n"
          ]
        }
      ]
    },
    {
      "cell_type": "code",
      "source": [
        "# Path to the directory containing MP3 recordings\n",
        "mp3_path = '/content/drive/MyDrive/DataAML/recordings/recordings/'"
      ],
      "metadata": {
        "id": "UwqSqJxPbtKi"
      },
      "execution_count": 4,
      "outputs": []
    },
    {
      "cell_type": "code",
      "source": [
        "import os\n",
        "\n",
        "if os.path.exists(mp3_path):\n",
        "    files = os.listdir(mp3_path)\n",
        "    print(files)\n",
        "else:\n",
        "    print(f\"Path not found: {mp3_path}\")"
      ],
      "metadata": {
        "id": "mvMq1rHRa3_S",
        "colab": {
          "base_uri": "https://localhost:8080/"
        },
        "outputId": "a8bc8dd7-445c-4d4a-830b-760af1d3891a"
      },
      "execution_count": 5,
      "outputs": [
        {
          "output_type": "stream",
          "name": "stdout",
          "text": [
            "['hebrew7.mp3', 'hebrew4.mp3', 'hindi12.mp3', 'hungarian1.mp3', 'hmong1.mp3', 'hmong2.mp3', 'hebrew3.mp3', 'hindi9.mp3', 'hausa8.mp3', 'hungarian9.mp3', 'hausa5.mp3', 'hausa3.mp3', 'hindi11.mp3', 'hungarian3.mp3', 'hausa7.mp3', 'indonesian6.mp3', 'italian1.mp3', 'italian12.mp3', 'ilonggo1.mp3', 'icelandic3.mp3', 'italian17.mp3', 'italian18.mp3', 'indonesian4.mp3', 'italian32.mp3', 'igbo2.mp3', 'italian19.mp3', 'italian10.mp3', 'italian23.mp3', 'ife1.mp3', 'indonesian5.mp3', 'italian3.mp3', 'indonesian2.mp3', 'italian25.mp3', 'italian2.mp3', 'italian26.mp3', 'icelandic2.mp3', 'italian22.mp3', 'indonesian3.mp3', 'igbo3.mp3', 'italian27.mp3', 'italian6.mp3', 'italian5.mp3', 'italian13.mp3', 'italian16.mp3', 'italian14.mp3', 'italian24.mp3', 'italian15.mp3', 'ibibio2.mp3', 'ibibio1.mp3', 'indonesian1.mp3', 'italian28.mp3', 'italian11.mp3', 'italian21.mp3', 'indonesian8.mp3', 'italian30.mp3', 'indonesian7.mp3', 'italian4.mp3', 'italian20.mp3', 'icelandic1.mp3', 'italian31.mp3', 'igbo1.mp3', 'irish1.mp3', 'ibibio3.mp3', 'italian29.mp3', 'italian33.mp3', 'japanese10.mp3', 'kambaata2.mp3', 'japanese25.mp3', 'japanese24.mp3', 'japanese6.mp3', 'japanese12.mp3', 'japanese26.mp3', 'jola1.mp3', 'kabyle1.mp3', 'japanese4.mp3', 'khmer3.mp3', 'japanese8.mp3', 'japanese27.mp3', 'italian7.mp3', 'khmer1.mp3', 'japanese22.mp3', 'italian9.mp3', 'italian8.mp3', 'japanese20.mp3', 'khmer2.mp3', 'japanese19.mp3', 'japanese21.mp3', 'japanese17.mp3', 'japanese11.mp3', 'kambaata1.mp3', 'khmer4.mp3', 'japanese14.mp3', 'kalanga1.mp3', 'kazakh2.mp3', 'japanese7.mp3', 'japanese13.mp3', 'khmer5.mp3', 'japanese18.mp3', 'kanuri1.mp3', 'japanese5.mp3', 'japanese3.mp3', 'kannada1.mp3', 'kambaata3.mp3', 'japanese9.mp3', 'japanese15.mp3', 'japanese1.mp3', 'kazakh3.mp3', 'japanese2.mp3', 'kazakh1.mp3', 'japanese16.mp3', 'japanese23.mp3', 'korean29.mp3', 'korean20.mp3', 'kirghiz1.mp3', 'khmer7.mp3', 'korean23.mp3', 'kiswahili2.mp3', 'korean3.mp3', 'kiswahili3.mp3', 'korean25.mp3', 'korean13.mp3', 'kikuyu3.mp3', 'korean22.mp3', 'kiswahili7.mp3', 'kikuyu4.mp3', 'korean30.mp3', 'korean18.mp3', 'korean2.mp3', 'korean1.mp3', 'kikuyu1.mp3', 'korean27.mp3', 'korean11.mp3', 'korean15.mp3', 'kikongo1.mp3', 'kiswahili1.mp3', 'korean26.mp3', 'konkani1.mp3', 'khmer6.mp3', 'korean10.mp3', 'kiswahili8.mp3', 'kiswahili9.mp3', 'kikongo2.mp3', 'korean14.mp3', 'korean16.mp3', 'kiswahili5.mp3', 'korean12.mp3', 'korean17.mp3', 'kiswahili6.mp3', 'kiswahili4.mp3', 'korean19.mp3', 'kikuyu2.mp3', 'korean28.mp3', 'korean21.mp3', 'korean24.mp3', 'korean39.mp3', 'korean45.mp3', 'korean9.mp3', 'korean4.mp3', 'korean43.mp3', 'krio3.mp3', 'kurdish4.mp3', 'korean35.mp3', 'korean49.mp3', 'kurdish10.mp3', 'korean33.mp3', 'korean46.mp3', 'kru1.mp3', 'korean38.mp3', 'kurdish2.mp3', 'korean51.mp3', 'krio1.mp3', 'korean36.mp3', 'kurdish5.mp3', 'korean8.mp3', 'korean31.mp3', 'korean42.mp3', 'korean48.mp3', 'kurdish8.mp3', 'korean50.mp3', 'krio2.mp3', 'korean7.mp3', 'kurdish3.mp3', 'korean5.mp3', 'kurdish1.mp3', 'korean44.mp3', 'kurdish7.mp3', 'korean47.mp3', 'korean52.mp3', 'korean37.mp3', 'korean6.mp3', 'kurdish6.mp3', 'korean32.mp3', 'korean40.mp3', 'krio6.mp3', 'korean34.mp3', 'korean41.mp3', 'krio5.mp3', 'krio4.mp3', 'luo2.mp3', 'lithuanian6.mp3', 'malay1.mp3', 'latvian1.mp3', 'macedonian26.mp3', 'lamaholot1.mp3', 'macedonian10.mp3', 'macedonian13.mp3', 'macedonian6.mp3', 'malagasy1.mp3', 'macedonian19.mp3', 'macedonian12.mp3', 'macedonian15.mp3', 'macedonian24.mp3', 'lao1.mp3', 'macedonian3.mp3', 'macedonian22.mp3', 'macedonian16.mp3', 'lithuanian2.mp3', 'macedonian11.mp3', 'latvian3.mp3', 'lingala1.mp3', 'lithuanian1.mp3', 'macedonian17.mp3', 'macedonian1.mp3', 'macedonian5.mp3', 'macedonian7.mp3', 'macedonian20.mp3', 'macedonian23.mp3', 'macedonian4.mp3', 'macedonian8.mp3', 'luo1.mp3', 'luxembourgeois1.mp3', 'lithuanian3.mp3', 'macedonian25.mp3', 'macedonian14.mp3', 'macedonian2.mp3', 'macedonian18.mp3', 'macedonian21.mp3', 'lithuanian4.mp3', 'lao3.mp3', 'latvian2.mp3', 'lamotrekese1.mp3', 'kurdish9.mp3', 'lithuanian5.mp3', 'lao2.mp3', 'macedonian9.mp3', 'malay2.mp3', 'mandarin11.mp3', 'mandarin38.mp3', 'mandarin22.mp3', 'mandarin40.mp3', 'mandarin21.mp3', 'mandarin2.mp3', 'mandarin35.mp3', 'mandarin30.mp3', 'mandarin4.mp3', 'mandarin10.mp3', 'mandarin28.mp3', 'mandarin31.mp3', 'mandarin19.mp3', 'mandarin39.mp3', 'malay5.mp3', 'mandarin13.mp3', 'malayalam3.mp3', 'mandarin34.mp3', 'mandarin3.mp3', 'malayalam1.mp3', 'mandarin20.mp3', 'mandarin17.mp3', 'maltese1.mp3', 'mandarin1.mp3', 'mandarin41.mp3', 'malayalam2.mp3', 'mandarin25.mp3', 'mandarin27.mp3', 'mandarin36.mp3', 'maltese2.mp3', 'malay4.mp3', 'malay3.mp3', 'mandarin12.mp3', 'mandarin14.mp3', 'mandarin16.mp3', 'mandarin29.mp3', 'mandarin26.mp3', 'mandarin33.mp3', 'mandarin15.mp3', 'mandarin24.mp3', 'mandarin18.mp3', 'malayalam4.mp3', 'mandarin32.mp3', 'mandarin37.mp3', 'mandarin23.mp3', 'mandarin58.mp3', 'mandarin49.mp3', 'mandarin59.mp3', 'mandarin50.mp3', 'mandarin54.mp3', 'mandingo1.mp3', 'mende1.mp3', 'marathi1.mp3', 'mankanya1.mp3', 'mandinka1.mp3', 'mandarin51.mp3', 'mandarin53.mp3', 'marathi3.mp3', 'marathi2.mp3', 'mauritian2.mp3', 'mandarin46.mp3', 'miskito10.mp3', 'mandarin56.mp3', 'mandarin8.mp3', 'miskito1.mp3', 'mandarin55.mp3', 'mandarin48.mp3', 'mandarin52.mp3', 'mandarin65.mp3', 'mauritian1.mp3', 'mandarin6.mp3', 'mandarin9.mp3', 'mandarin5.mp3', 'mende2.mp3', 'mandarin43.mp3', 'mandarin64.mp3', 'mandarin63.mp3', 'mandarin62.mp3', 'mandarin57.mp3', 'mandarin45.mp3', 'mandarin61.mp3', 'mandarin47.mp3', 'mende3.mp3', 'mandarin42.mp3', 'mandarin7.mp3', 'mandarin44.mp3', 'mandarin60.mp3', 'nepali12.mp3', 'moba1.mp3', 'miskito2.mp3', 'nama1.mp3', 'miskito4.mp3', 'mongolian4.mp3', 'ngemba1.mp3', 'miskito7.mp3', 'mongolian2.mp3', 'mongolian3.mp3', 'miskito6.mp3', 'mortlockese1.mp3', 'mongolian5.mp3', 'mizo1.mp3', 'nandi1.mp3', 'miskito8.mp3', 'nepali3.mp3', 'nepali6.mp3', 'nepali7.mp3', 'nepali1.mp3', 'mongolian7.mp3', 'ngemba2.mp3', 'nepali10.mp3', 'nepali11.mp3', 'naxi1.mp3', 'newari1.mp3', 'nepali8.mp3', 'nepali2.mp3', 'mongolian9.mp3', 'nepali9.mp3', 'mongolian8.mp3', 'miskito9.mp3', 'miskito5.mp3', 'nepali13.mp3', 'mongolian1.mp3', 'nepali4.mp3', 'moore1.mp3', 'nepali5.mp3', 'miskito11.mp3', 'mongolian6.mp3', 'miskito3.mp3', 'oromo2.mp3', 'polish10.mp3', 'pashto8.mp3', 'polish21.mp3', 'polish1.mp3', 'norwegian1.mp3', 'papiamentu2.mp3', 'pashto10.mp3', 'pashto5.mp3', 'oromo1.mp3', 'polish12.mp3', 'norwegian2.mp3', 'norwegian5.mp3', 'pohnpeian1.mp3', 'pashto2.mp3', 'polish24.mp3', 'polish15.mp3', 'polish13.mp3', 'papiamentu1.mp3', 'polish26.mp3', 'polish19.mp3', 'pashto9.mp3', 'polish29.mp3', 'polish27.mp3', 'nuer1.mp3', 'polish23.mp3', 'polish17.mp3', 'norwegian6.mp3', 'polish14.mp3', 'pashto1.mp3', 'polish2.mp3', 'oromo3.mp3', 'pashto6.mp3', 'oriya1.mp3', 'pashto7.mp3', 'polish22.mp3', 'polish20.mp3', 'norwegian4.mp3', 'pashto3.mp3', 'polish25.mp3', 'polish18.mp3', 'oriya2.mp3', 'norwegian3.mp3', 'polish28.mp3', 'pashto4.mp3', 'polish11.mp3', 'polish16.mp3', 'polish33.mp3', 'portuguese1.mp3', 'portuguese26.mp3', 'portuguese13.mp3', 'polish32.mp3', 'portuguese24.mp3', 'portuguese11.mp3', 'portuguese14.mp3', 'portuguese2.mp3', 'portuguese18.mp3', 'portuguese23.mp3', 'polish30.mp3', 'portuguese16.mp3', 'portuguese21.mp3', 'portuguese10.mp3', 'portuguese42.mp3', 'portuguese12.mp3', 'polish7.mp3', 'portuguese27.mp3', 'polish4.mp3', 'portuguese45.mp3', 'polish6.mp3', 'portuguese20.mp3', 'portuguese32.mp3', 'portuguese43.mp3', 'portuguese36.mp3', 'polish9.mp3', 'polish34.mp3', 'portuguese22.mp3', 'portuguese30.mp3', 'portuguese31.mp3', 'polish31.mp3', 'portuguese39.mp3', 'portuguese44.mp3', 'portuguese28.mp3', 'portuguese19.mp3', 'portuguese3.mp3', 'polish8.mp3', 'portuguese25.mp3', 'portuguese15.mp3', 'portuguese38.mp3', 'polish3.mp3', 'polish5.mp3', 'portuguese33.mp3', 'portuguese17.mp3', 'portuguese41.mp3', 'portuguese4.mp3', 'portuguese34.mp3', 'portuguese40.mp3', 'portuguese37.mp3', 'portuguese35.mp3', 'portuguese46.mp3', 'portuguese29.mp3', 'romanian9.mp3', 'portuguese6.mp3', 'pulaar2.mp3', 'portuguese7.mp3', 'romanian17.mp3', 'punjabi1.mp3', 'russian1.mp3', 'romanian8.mp3', 'romanian18.mp3', 'punjabi7.mp3', 'rotuman2.mp3', 'romanian13.mp3', 'pulaar3.mp3', 'romanian16.mp3', 'romanian11.mp3', 'romanian15.mp3', 'rundi1.mp3', 'punjabi2.mp3', 'punjabi3.mp3', 'pulaar1.mp3', 'romanian20.mp3', 'punjabi4.mp3', 'romanian6.mp3', 'romanian10.mp3', 'punjabi8.mp3', 'portuguese48.mp3', 'punjabi9.mp3', 'punjabi10.mp3', 'punjabi6.mp3', 'romanian3.mp3', 'romanian2.mp3', 'romanian19.mp3', 'portuguese5.mp3', 'punjabi5.mp3', 'portuguese47.mp3', 'romanian12.mp3', 'quechua1.mp3', 'romanian5.mp3', 'portuguese8.mp3', 'romanian1.mp3', 'romanian14.mp3', 'romanian7.mp3', 'portuguese9.mp3', 'rotuman1.mp3', 'quechua2.mp3', 'romanian4.mp3', 'russian32.mp3', 'russian44.mp3', 'russian19.mp3', 'russian47.mp3', 'russian39.mp3', 'russian20.mp3', 'russian15.mp3', 'russian7.mp3', 'russian8.mp3', 'russian43.mp3', 'russian45.mp3', 'russian35.mp3', 'russian22.mp3', 'russian3.mp3', 'russian16.mp3', 'russian33.mp3', 'russian6.mp3', 'russian14.mp3', 'russian48.mp3', 'russian17.mp3', 'russian34.mp3', 'russian37.mp3', 'russian21.mp3', 'russian10.mp3', 'russian11.mp3', 'russian2.mp3', 'russian25.mp3', 'russian46.mp3', 'russian9.mp3', 'russian5.mp3', 'russian28.mp3', 'russian12.mp3', 'russian13.mp3', 'russian23.mp3', 'russian40.mp3', 'russian27.mp3', 'russian4.mp3', 'russian41.mp3', 'russian31.mp3', 'russian30.mp3', 'russian36.mp3', 'russian18.mp3', 'russian26.mp3', 'russian38.mp3', 'russian42.mp3', 'russian29.mp3', 'russian24.mp3', 'serbian10.mp3', 'serbian12.mp3', 'sindhi1.mp3', 'sarua1.mp3', 'shona2.mp3', 'serbian14.mp3', 'slovenian1.mp3', 'serbian4.mp3', 'satawalese2.mp3', 'serbian15.mp3', 'shilluk1.mp3', 'sardinian1.mp3', 'serbian17.mp3', \"sa'a1.mp3\", 'slovak2.mp3', 'serbian16.mp3', 'slovak5.mp3', 'serbian18.mp3', 'serbian13.mp3', 'serbian6.mp3', 'slovenian2.mp3', 'serbian3.mp3', 'serbian2.mp3', 'somali2.mp3', 'sicilian1.mp3', 'somali3.mp3', 'serbian8.mp3', 'serbian1.mp3', 'somali4.mp3', 'serbian9.mp3', 'slovak4.mp3', 'shona1.mp3', 'sinhala6.mp3', 'slovak1.mp3', 'rwanda1.mp3', 'somali1.mp3', 'slovak3.mp3', 'somali5.mp3', 'serbian11.mp3', 'serer1.mp3', 'sesotho1.mp3', 'serbian7.mp3', 'serbian5.mp3', 'shan1.mp3', 'satawalese1.mp3', 'somali6.mp3', 'spanish104.mp3', 'spanish117.mp3', 'spanish137.mp3', 'spanish130.mp3', 'spanish135.mp3', 'spanish124.mp3', 'spanish105.mp3', 'spanish118.mp3', 'spanish122.mp3', 'spanish10.mp3', 'spanish113.mp3', 'spanish125.mp3', 'spanish131.mp3', 'spanish110.mp3', 'spanish114.mp3', 'spanish107.mp3', 'spanish116.mp3', 'spanish101.mp3', 'spanish1.mp3', 'spanish100.mp3', 'spanish115.mp3', 'spanish128.mp3', 'spanish133.mp3', 'spanish119.mp3', 'spanish102.mp3', 'spanish132.mp3', 'spanish13.mp3', 'spanish120.mp3', 'spanish123.mp3', 'spanish12.mp3', 'spanish136.mp3', 'spanish138.mp3', 'spanish103.mp3', 'spanish121.mp3', 'spanish108.mp3', 'spanish127.mp3', 'spanish11.mp3', 'spanish109.mp3', 'spanish129.mp3', 'spanish134.mp3', 'spanish111.mp3', 'spanish126.mp3', 'spanish112.mp3', 'spanish106.mp3', 'spanish16.mp3', 'spanish144.mp3', 'spanish14.mp3', 'spanish157.mp3', 'spanish3.mp3', 'spanish23.mp3', 'spanish142.mp3', 'spanish146.mp3', 'spanish29.mp3', 'spanish145.mp3', 'spanish162.mp3', 'spanish149.mp3', 'spanish152.mp3', 'spanish27.mp3', 'spanish147.mp3', 'spanish158.mp3', 'spanish141.mp3', 'spanish156.mp3', 'spanish15.mp3', 'spanish26.mp3', 'spanish139.mp3', 'spanish2.mp3', 'spanish148.mp3', 'spanish30.mp3', 'spanish24.mp3', 'spanish22.mp3', 'spanish143.mp3', 'spanish151.mp3', 'spanish161.mp3', 'spanish31.mp3', 'spanish160.mp3', 'spanish17.mp3', 'spanish150.mp3', 'spanish153.mp3', 'spanish20.mp3', 'spanish155.mp3', 'spanish28.mp3', 'spanish19.mp3', 'spanish159.mp3', 'spanish154.mp3', 'spanish140.mp3', 'spanish18.mp3', 'spanish25.mp3', 'spanish21.mp3', 'spanish61.mp3', 'spanish38.mp3', 'spanish41.mp3', 'spanish60.mp3', 'spanish78.mp3', 'spanish65.mp3', 'spanish67.mp3', 'spanish79.mp3', 'spanish48.mp3', 'spanish35.mp3', 'spanish49.mp3', 'spanish6.mp3', 'spanish45.mp3', 'spanish32.mp3', 'spanish56.mp3', 'spanish5.mp3', 'spanish42.mp3', 'spanish54.mp3', 'spanish62.mp3', 'spanish36.mp3', 'spanish59.mp3', 'spanish37.mp3', 'spanish52.mp3', 'spanish64.mp3', 'spanish34.mp3', 'spanish63.mp3', 'spanish77.mp3', 'spanish73.mp3', 'spanish46.mp3', 'spanish72.mp3', 'spanish4.mp3', 'spanish47.mp3', 'spanish75.mp3', 'spanish71.mp3', 'spanish66.mp3', 'spanish58.mp3', 'spanish7.mp3', 'spanish55.mp3', 'spanish50.mp3', 'spanish51.mp3', 'spanish40.mp3', 'spanish43.mp3', 'spanish68.mp3', 'spanish74.mp3', 'spanish69.mp3', 'spanish57.mp3', 'spanish33.mp3', 'spanish76.mp3', 'spanish44.mp3', 'spanish39.mp3', 'spanish70.mp3', 'spanish53.mp3', 'spanish87.mp3', 'swedish18.mp3', 'spanish9.mp3', 'synthesized2.mp3', 'swedish13.mp3', 'swedish17.mp3', 'swedish6.mp3', 'spanish83.mp3', 'spanish91.mp3', 'swedish3.mp3', 'spanish8.mp3', 'spanish86.mp3', 'spanish95.mp3', 'spanish94.mp3', 'synthesized1.mp3', 'spanish80.mp3', 'swedish5.mp3', 'spanish85.mp3', 'swedish15.mp3', 'spanish93.mp3', 'spanish82.mp3', 'swedish16.mp3', 'swedish2.mp3', 'swedish8.mp3', 'spanish98.mp3', 'swedish10.mp3', 'sundanese1.mp3', 'sylheti1.mp3', 'swedish4.mp3', 'spanish97.mp3', 'spanish96.mp3', 'swedish1.mp3', 'swedish7.mp3', 'spanish89.mp3', 'swedish19.mp3', 'spanish92.mp3', 'spanish88.mp3', 'swedish20.mp3', 'swedish12.mp3', 'swedish14.mp3', 'spanish99.mp3', 'spanish90.mp3', 'swedish9.mp3', 'susu1.mp3', 'swedish11.mp3', 'spanish81.mp3', 'spanish84.mp3', 'tagalog2.mp3', 'telugu2.mp3', 'synthesized3.mp3', 'tajiki2.mp3', 'temne1.mp3', 'tamil1.mp3', 'tajiki1.mp3', 'tagalog5.mp3', 'thai11.mp3', 'taiwanese4.mp3', 'taiwanese8.mp3', 'synthesized4.mp3', 'tagalog17.mp3', 'tagalog6.mp3', 'taiwanese7.mp3', 'taiwanese6.mp3', 'tamil4.mp3', 'tagalog9.mp3', 'telugu1.mp3', 'tamil2.mp3', 'tamil6.mp3', 'taiwanese3.mp3', 'thai10.mp3', 'tagalog14.mp3', 'tagalog18.mp3', 'tagalog15.mp3', 'thai1.mp3', 'tagalog16.mp3', 'tagalog11.mp3', 'taishan1.mp3', 'tagalog12.mp3', 'tagalog7.mp3', 'tagalog4.mp3', 'tagalog8.mp3', 'tamil5.mp3', 'tagalog3.mp3', 'tajiki3.mp3', 'tagalog10.mp3', 'tagalog1.mp3', 'teochew1.mp3', 'tamil3.mp3', 'taiwanese5.mp3', 'tagalog13.mp3', 'taiwanese1.mp3', 'tatar1.mp3', 'taiwanese2.mp3', 'tibetan3.mp3', 'thai9.mp3', 'thai5.mp3', 'turkish25.mp3', 'tibetan1.mp3', 'tswana1.mp3', 'tigrigna1.mp3', 'tigrigna3.mp3', 'thai6.mp3', 'thai8.mp3', 'turkish10.mp3', 'turkish13.mp3', 'turkish23.mp3', 'turkish15.mp3', 'tigrigna6.mp3', 'tigrigna7.mp3', 'tigrigna2.mp3', 'turkish16.mp3', 'tibetan2.mp3', 'tigrigna8.mp3', 'turkish2.mp3', 'thai15.mp3', 'thai12.mp3', 'turkish24.mp3', 'thai13.mp3', 'turkish1.mp3', 'thai4.mp3', 'turkish14.mp3', 'tigrigna4.mp3', 'tswana2.mp3', 'turkish22.mp3', 'turkish11.mp3', 'thai7.mp3', 'tigrigna5.mp3', 'turkish12.mp3', 'turkish20.mp3', 'turkish21.mp3', 'turkish17.mp3', 'thai2.mp3', 'turkish19.mp3', 'thai14.mp3', 'turkish18.mp3', 'thai3.mp3', 'turkish32.mp3', 'ukrainian11.mp3', 'urdu12.mp3', 'urdu13.mp3', 'turkish30.mp3', 'ukrainian9.mp3', 'turkish6.mp3', 'turkish7.mp3', 'ukrainian6.mp3', 'ukrainian2.mp3', 'twi6.mp3', 'urdu5.mp3', 'twi2.mp3', 'turkmen1.mp3', 'ukrainian3.mp3', 'turkish28.mp3', 'turkish31.mp3', 'turkish37.mp3', 'urdu15.mp3', 'turkish26.mp3', 'urdu16.mp3', 'turkish8.mp3', 'turkish33.mp3', 'turkish4.mp3', 'twi4.mp3', 'twi1.mp3', 'turkish34.mp3', 'turkish27.mp3', 'urdu14.mp3', 'ukrainian10.mp3', 'urdu3.mp3', 'turkish3.mp3', 'urdu4.mp3', 'ukrainian5.mp3', 'twi5.mp3', 'turkish9.mp3', 'turkish36.mp3', 'ukrainian4.mp3', 'ukrainian1.mp3', 'turkish5.mp3', 'urdu11.mp3', 'urdu10.mp3', 'ukrainian7.mp3', 'urdu2.mp3', 'turkish35.mp3', 'urdu1.mp3', 'ukrainian8.mp3', 'turkish29.mp3', 'vietnamese17.mp3', 'vietnamese5.mp3', 'vietnamese8.mp3', 'vlaams4.mp3', 'wolof3.mp3', 'wolof2.mp3', 'vietnamese11.mp3', 'vietnamese12.mp3', 'vietnamese19.mp3', 'vietnamese6.mp3', 'vietnamese22.mp3', 'uyghur2.mp3', 'vlaams3.mp3', 'vietnamese4.mp3', 'urdu9.mp3', 'uyghur3.mp3', 'uzbek3.mp3', 'vietnamese15.mp3', 'vietnamese10.mp3', 'wolof4.mp3', 'vietnamese16.mp3', 'uzbek2.mp3', 'vietnamese13.mp3', 'vietnamese2.mp3', 'uzbek1.mp3', 'vlaams1.mp3', 'uyghur1.mp3', 'wolof1.mp3', 'uzbek4.mp3', 'vietnamese14.mp3', 'vietnamese7.mp3', 'vlaams2.mp3', 'wolof5.mp3', 'vietnamese1.mp3', 'vietnamese20.mp3', 'vietnamese18.mp3', 'urdu7.mp3', 'vietnamese21.mp3', 'urdu8.mp3', 'vietnamese3.mp3', 'vietnamese9.mp3', 'urdu6.mp3', 'yiddish4.mp3', 'wu1.mp3', 'xiang4.mp3', 'yoruba4.mp3', 'yiddish1.mp3', 'xiang1.mp3', 'yapese1.mp3', 'xiang2.mp3', 'yiddish3.mp3', 'xiang3.mp3', 'yoruba1.mp3', 'zulu1.mp3', 'xasonga1.mp3', 'yiddish2.mp3', 'yupik1.mp3', 'yoruba2.mp3', 'yakut1.mp3', 'wolof6.mp3', 'yoruba3.mp3', 'yiddish5.mp3', 'yoruba5.mp3', 'armenian1.mp3', 'bengali10.mp3', 'bengali12.mp3', 'arabic96.mp3', 'basque1.mp3', 'armenian6.mp3', 'bavarian1.mp3', 'bai1.mp3', 'bambara5.mp3', 'azerbaijani2.mp3', 'bambara4.mp3', 'belarusan2.mp3', 'baga1.mp3', 'armenian7.mp3', 'armenian2.mp3', 'bambara2.mp3', 'bambara1.mp3', 'belarusan1.mp3', 'bengali11.mp3', 'bamun1.mp3', 'bari2.mp3', 'bafang2.mp3', 'bavarian2.mp3', 'arabic97.mp3', 'bengali13.mp3', 'bari1.mp3', 'bafang1.mp3', 'azerbaijani3.mp3', 'armenian3.mp3', 'arabic98.mp3', 'armenian8.mp3', 'ashanti1.mp3', 'bambara3.mp3', 'bengali14.mp3', 'armenian4.mp3', 'azerbaijani1.mp3', 'bengali1.mp3', 'basque2.mp3', 'armenian5.mp3', 'bulgarian15.mp3', 'bulgarian1.mp3', 'bengali9.mp3', 'cantonese11.mp3', 'bulgarian5.mp3', 'cantonese13.mp3', 'bengali5.mp3', 'bulgarian18.mp3', 'cantonese1.mp3', 'bosnian1.mp3', 'bulgarian3.mp3', 'bulgarian2.mp3', 'bulgarian7.mp3', 'cantonese16.mp3', 'bosnian2.mp3', 'bulgarian13.mp3', 'bosnian5.mp3', 'bengali16.mp3', 'bulgarian17.mp3', 'bengali7.mp3', 'bengali4.mp3', 'bosnian7.mp3', 'cantonese10.mp3', 'bulgarian4.mp3', 'bengali6.mp3', 'burmese2.mp3', 'bosnian8.mp3', 'bengali17.mp3', 'bosnian4.mp3', 'bengali3.mp3', 'bulgarian12.mp3', 'burmese1.mp3', 'bulgarian9.mp3', 'bengali8.mp3', 'bulgarian10.mp3', 'bulgarian8.mp3', 'cantonese14.mp3', 'bosnian3.mp3', 'cantonese15.mp3', 'bengali15.mp3', 'bulgarian16.mp3', 'cantonese12.mp3', 'bengali2.mp3', 'bulgarian11.mp3', 'bosnian6.mp3', 'bulgarian14.mp3', 'bosnian9.mp3', 'bulgarian6.mp3', 'catalan1.mp3', 'croatian3.mp3', 'cantonese17.mp3', 'czech9.mp3', 'croatian5.mp3', 'cantonese23.mp3', 'catalan4.mp3', 'croatian6.mp3', 'croatian1.mp3', 'carolinian1.mp3', 'chittagonian1.mp3', 'cantonese6.mp3', 'czech7.mp3', 'danish5.mp3', 'cantonese19.mp3', 'czech6.mp3', 'czech5.mp3', 'danish6.mp3', 'croatian8.mp3', 'chamorro1.mp3', 'croatian4.mp3', 'czech8.mp3', 'danish4.mp3', 'cantonese4.mp3', 'czech1.mp3', 'czech2.mp3', 'cantonese2.mp3', 'cantonese7.mp3', 'cantonese20.mp3', 'cebuano1.mp3', 'czech3.mp3', 'danish3.mp3', 'danish2.mp3', 'chaldean2.mp3', 'chaldean1.mp3', 'cantonese3.mp3', 'croatian2.mp3', 'czech4.mp3', 'catalan2.mp3', 'cantonese9.mp3', 'chichewa1.mp3', 'cantonese21.mp3', 'cantonese5.mp3', 'cantonese8.mp3', 'cantonese18.mp3', 'catalan3.mp3', 'cantonese22.mp3', 'croatian7.mp3', 'danish1.mp3', 'dari5.mp3', 'dutch5.mp3', 'dutch27.mp3', 'dutch3.mp3', 'dutch47.mp3', 'dutch23.mp3', 'dutch15.mp3', 'dutch13.mp3', 'dutch33.mp3', 'dutch7.mp3', 'dutch41.mp3', 'dutch10.mp3', 'dutch44.mp3', 'danish7.mp3', 'dutch38.mp3', 'dutch46.mp3', 'dutch37.mp3', 'dutch28.mp3', 'dutch1.mp3', 'dari2.mp3', 'dutch17.mp3', 'dari3.mp3', 'dutch45.mp3', 'dinka1.mp3', 'dutch11.mp3', 'dutch43.mp3', 'dutch40.mp3', 'dari1.mp3', 'dutch29.mp3', 'dutch22.mp3', 'dutch25.mp3', 'dutch21.mp3', 'dutch24.mp3', 'dutch18.mp3', 'dutch26.mp3', 'dutch32.mp3', 'dutch14.mp3', 'dutch16.mp3', 'dutch4.mp3', 'dutch30.mp3', 'dutch20.mp3', 'dutch6.mp3', 'dutch19.mp3', 'dutch31.mp3', 'dutch36.mp3', 'dutch39.mp3', 'dutch2.mp3', 'dutch12.mp3', 'dutch34.mp3', 'dari4.mp3', 'dutch35.mp3', 'dutch42.mp3', 'danish8.mp3', 'english122.mp3', 'english134.mp3', 'english133.mp3', 'english103.mp3', 'english111.mp3', 'english127.mp3', 'english120.mp3', 'english106.mp3', 'english112.mp3', 'english143.mp3', 'english146.mp3', 'english136.mp3', 'english117.mp3', 'english132.mp3', 'english145.mp3', 'english121.mp3', 'english110.mp3', 'english128.mp3', 'english138.mp3', 'english100.mp3', 'english135.mp3', 'english126.mp3', 'dutch8.mp3', 'english140.mp3', 'english137.mp3', 'english114.mp3', 'english125.mp3', 'ebira1.mp3', 'english129.mp3', 'english108.mp3', 'edo1.mp3', 'english139.mp3', 'english101.mp3', 'english113.mp3', 'english102.mp3', 'english1.mp3', 'english105.mp3', 'english13.mp3', 'english149.mp3', 'english148.mp3', 'english107.mp3', 'english115.mp3', 'english141.mp3', 'english104.mp3', 'english131.mp3', 'english109.mp3', 'english119.mp3', 'english123.mp3', 'english142.mp3', 'english147.mp3', 'english10.mp3', 'english130.mp3', 'english12.mp3', 'dutch9.mp3', 'english124.mp3', 'english116.mp3', 'english118.mp3', 'english14.mp3', 'english144.mp3', 'english11.mp3', 'english200.mp3', 'english202.mp3', 'english194.mp3', 'english186.mp3', 'english152.mp3', 'english158.mp3', 'english160.mp3', 'english195.mp3', 'english180.mp3', 'english16.mp3', 'english20.mp3', 'english192.mp3', 'english163.mp3', 'english18.mp3', 'english193.mp3', 'english167.mp3', 'english189.mp3', 'english15.mp3', 'english17.mp3', 'english172.mp3', 'english168.mp3', 'english182.mp3', 'english178.mp3', 'english183.mp3', 'english162.mp3', 'english154.mp3', 'english175.mp3', 'english191.mp3', 'english156.mp3', 'english161.mp3', 'english185.mp3', 'english198.mp3', 'english150.mp3', 'english199.mp3', 'english174.mp3', 'english151.mp3', 'english177.mp3', 'english197.mp3', 'english201.mp3', 'english184.mp3', 'english187.mp3', 'english170.mp3', 'english165.mp3', 'english176.mp3', 'english171.mp3', 'english166.mp3', 'english153.mp3', 'english173.mp3', 'english188.mp3', 'english179.mp3', 'english155.mp3', 'english164.mp3', 'english190.mp3', 'english159.mp3', 'english181.mp3', 'english157.mp3', 'english19.mp3', 'english2.mp3', 'english196.mp3', 'english169.mp3', 'english234.mp3', 'english235.mp3', 'english226.mp3', 'english240.mp3', 'english257.mp3', 'english248.mp3', 'english238.mp3', 'english227.mp3', 'english22.mp3', 'english213.mp3', 'english251.mp3', 'english254.mp3', 'english236.mp3', 'english221.mp3', 'english247.mp3', 'english217.mp3', 'english250.mp3', 'english242.mp3', 'english237.mp3', 'english23.mp3', 'english245.mp3', 'english215.mp3', 'english241.mp3', 'english256.mp3', 'english21.mp3', 'english210.mp3', 'english25.mp3', 'english225.mp3', 'english216.mp3', 'english246.mp3', 'english209.mp3', 'english253.mp3', 'english208.mp3', 'english205.mp3', 'english255.mp3', 'english206.mp3', 'english214.mp3', 'english207.mp3', 'english223.mp3', 'english244.mp3', 'english219.mp3', 'english24.mp3', 'english224.mp3', 'english220.mp3', 'english233.mp3', 'english211.mp3', 'english204.mp3', 'english222.mp3', 'english252.mp3', 'english212.mp3', 'english230.mp3', 'english231.mp3', 'english243.mp3', 'english218.mp3', 'english203.mp3', 'english232.mp3', 'english228.mp3', 'english239.mp3', 'english249.mp3', 'english229.mp3', 'english26.mp3', 'english31.mp3', 'english285.mp3', 'english286.mp3', 'english275.mp3', 'english28.mp3', 'english295.mp3', 'english280.mp3', 'english281.mp3', 'english287.mp3', 'english290.mp3', 'english29.mp3', 'english283.mp3', 'english273.mp3', 'english264.mp3', 'english308.mp3', 'english263.mp3', 'english284.mp3', 'english27.mp3', 'english267.mp3', 'english3.mp3', 'english30.mp3', 'english300.mp3', 'english292.mp3', 'english277.mp3', 'english260.mp3', 'english310.mp3', 'english259.mp3', 'english278.mp3', 'english288.mp3', 'english268.mp3', 'english294.mp3', 'english305.mp3', 'english274.mp3', 'english282.mp3', 'english297.mp3', 'english271.mp3', 'english293.mp3', 'english272.mp3', 'english266.mp3', 'english307.mp3', 'english299.mp3', 'english279.mp3', 'english258.mp3', 'english301.mp3', 'english309.mp3', 'english302.mp3', 'english270.mp3', 'english276.mp3', 'english262.mp3', 'english303.mp3', 'english265.mp3', 'english296.mp3', 'english269.mp3', 'english261.mp3', 'english306.mp3', 'english289.mp3', 'english298.mp3', 'english291.mp3', 'english304.mp3', 'english316.mp3', 'english331.mp3', 'english358.mp3', 'english321.mp3', 'english341.mp3', 'english348.mp3', 'english337.mp3', 'english338.mp3', 'english328.mp3', 'english364.mp3', 'english323.mp3', 'english317.mp3', 'english359.mp3', 'english334.mp3', 'english339.mp3', 'english365.mp3', 'english319.mp3', 'english36.mp3', 'english361.mp3', 'english326.mp3', 'english346.mp3', 'english325.mp3', 'english343.mp3', 'english362.mp3', 'english322.mp3', 'english336.mp3', 'english354.mp3', 'english327.mp3', 'english366.mp3', 'english34.mp3', 'english335.mp3', 'english352.mp3', 'english32.mp3', 'english329.mp3', 'english345.mp3', 'english349.mp3', 'english355.mp3', 'english33.mp3', 'english324.mp3', 'english351.mp3', 'english356.mp3', 'english35.mp3', 'english318.mp3', 'english340.mp3', 'english353.mp3', 'english311.mp3', 'english350.mp3', 'english332.mp3', 'english360.mp3', 'english330.mp3', 'english344.mp3', 'english333.mp3', 'english314.mp3', 'english363.mp3', 'english342.mp3', 'english312.mp3', 'english320.mp3', 'english347.mp3', 'english315.mp3', 'english357.mp3', 'english313.mp3', 'english384.mp3', 'english412.mp3', 'english4.mp3', 'english375.mp3', 'english387.mp3', 'english386.mp3', 'english372.mp3', 'english383.mp3', 'english408.mp3', 'english379.mp3', 'english410.mp3', 'english394.mp3', 'english406.mp3', 'english389.mp3', 'english396.mp3', 'english411.mp3', 'english392.mp3', 'english403.mp3', 'english370.mp3', 'english391.mp3', 'english399.mp3', 'english380.mp3', 'english41.mp3', 'english385.mp3', 'english407.mp3', 'english393.mp3', 'english400.mp3', 'english368.mp3', 'english374.mp3', 'english373.mp3', 'english381.mp3', 'english404.mp3', 'english390.mp3', 'english367.mp3', 'english409.mp3', 'english401.mp3', 'english38.mp3', 'english378.mp3', 'english377.mp3', 'english398.mp3', 'english37.mp3', 'english395.mp3', 'english376.mp3', 'english402.mp3', 'english371.mp3', 'english405.mp3', 'english382.mp3', 'english39.mp3', 'english369.mp3', 'english388.mp3', 'english40.mp3', 'english397.mp3', 'english460.mp3', 'english447.mp3', 'english464.mp3', 'english414.mp3', 'english425.mp3', 'english455.mp3', 'english433.mp3', 'english457.mp3', 'english418.mp3', 'english443.mp3', 'english453.mp3', 'english444.mp3', 'english429.mp3', 'english438.mp3', 'english446.mp3', 'english44.mp3', 'english420.mp3', 'english459.mp3', 'english456.mp3', 'english437.mp3', 'english430.mp3', 'english428.mp3', 'english440.mp3', 'english419.mp3', 'english458.mp3', 'english431.mp3', 'english439.mp3', 'english465.mp3', 'english426.mp3', 'english415.mp3', 'english427.mp3', 'english442.mp3', 'english436.mp3', 'english46.mp3', 'english43.mp3', 'english434.mp3', 'english450.mp3', 'english445.mp3', 'english462.mp3', 'english413.mp3', 'english424.mp3', 'english422.mp3', 'english463.mp3', 'english461.mp3', 'english421.mp3', 'english42.mp3', 'english441.mp3', 'english417.mp3', 'english448.mp3', 'english467.mp3', 'english454.mp3', 'english451.mp3', 'english466.mp3', 'english449.mp3', 'english423.mp3', 'english432.mp3', 'english45.mp3', 'english435.mp3', 'english452.mp3', 'english416.mp3', 'english482.mp3', 'english489.mp3', 'english486.mp3', 'english502.mp3', 'english51.mp3', 'english48.mp3', 'english514.mp3', 'english496.mp3', 'english510.mp3', 'english470.mp3', 'english5.mp3', 'english478.mp3', 'english516.mp3', 'english476.mp3', 'english499.mp3', 'english495.mp3', 'english505.mp3', 'english507.mp3', 'english492.mp3', 'english481.mp3', 'english501.mp3', 'english485.mp3', 'english511.mp3', 'english50.mp3', 'english500.mp3', 'english49.mp3', 'english503.mp3', 'english504.mp3', 'english494.mp3', 'english488.mp3', 'english491.mp3', 'english473.mp3', 'english483.mp3', 'english477.mp3', 'english474.mp3', 'english487.mp3', 'english484.mp3', 'english506.mp3', 'english468.mp3', 'english47.mp3', 'english479.mp3', 'english480.mp3', 'english490.mp3', 'english497.mp3', 'english513.mp3', 'english472.mp3', 'english515.mp3', 'english509.mp3', 'english512.mp3', 'english508.mp3', 'english498.mp3', 'english469.mp3', 'english493.mp3', 'english475.mp3', 'english471.mp3', 'english541.mp3', 'english552.mp3', 'english521.mp3', 'english569.mp3', 'english556.mp3', 'english548.mp3', 'english523.mp3', 'english536.mp3', 'english54.mp3', 'english543.mp3', 'english517.mp3', 'english559.mp3', 'english550.mp3', 'english566.mp3', 'english549.mp3', 'english56.mp3', 'english554.mp3', 'english560.mp3', 'english563.mp3', 'english524.mp3', 'english528.mp3', 'english53.mp3', 'english540.mp3', 'english535.mp3', 'english558.mp3', 'english564.mp3', 'english532.mp3', 'english546.mp3', 'english561.mp3', 'english542.mp3', 'english525.mp3', 'english57.mp3', 'english568.mp3', 'english520.mp3', 'english534.mp3', 'english55.mp3', 'english529.mp3', 'english555.mp3', 'english527.mp3', 'english522.mp3', 'english544.mp3', 'english52.mp3', 'english562.mp3', 'english519.mp3', 'english557.mp3', 'english538.mp3', 'english537.mp3', 'english530.mp3', 'english567.mp3', 'english539.mp3', 'english547.mp3', 'english565.mp3', 'english518.mp3', 'english526.mp3', 'english551.mp3', 'english545.mp3', 'english531.mp3', 'english533.mp3', 'english553.mp3', 'english87.mp3', 'english572.mp3', 'english75.mp3', 'english573.mp3', 'estonian1.mp3', 'english66.mp3', 'english93.mp3', 'english81.mp3', 'english58.mp3', 'english570.mp3', 'english98.mp3', 'english7.mp3', 'english79.mp3', 'english574.mp3', 'english78.mp3', 'estonian3.mp3', 'english64.mp3', 'english575.mp3', 'english99.mp3', 'english77.mp3', 'english8.mp3', 'english85.mp3', 'english96.mp3', 'english72.mp3', 'english70.mp3', 'english576.mp3', 'ewe1.mp3', 'english82.mp3', 'english92.mp3', 'english63.mp3', 'english76.mp3', 'estonian2.mp3', 'english88.mp3', 'english83.mp3', 'english62.mp3', 'english578.mp3', 'english94.mp3', 'english6.mp3', 'english59.mp3', 'english67.mp3', 'english90.mp3', 'english86.mp3', 'english84.mp3', 'english577.mp3', 'english97.mp3', 'english65.mp3', 'english74.mp3', 'english9.mp3', 'english73.mp3', 'english71.mp3', 'english60.mp3', 'english61.mp3', 'english579.mp3', 'english91.mp3', 'english89.mp3', 'english95.mp3', 'english69.mp3', 'estonian4.mp3', 'english80.mp3', 'english68.mp3', 'english571.mp3', 'farsi18.mp3', 'french13.mp3', 'farsi23.mp3', 'farsi10.mp3', 'filipino1.mp3', 'finnish1.mp3', 'farsi3.mp3', 'farsi20.mp3', 'fijian1.mp3', 'farsi6.mp3', 'fijian2.mp3', 'fijian3.mp3', 'finnish7.mp3', 'farsi4.mp3', 'farsi16.mp3', 'farsi19.mp3', 'finnish3.mp3', 'farsi22.mp3', 'fang1.mp3', 'french1.mp3', 'filipino2.mp3', 'finnish8.mp3', 'farsi21.mp3', 'french12.mp3', 'french10.mp3', 'fanti3.mp3', 'fanti1.mp3', 'fataluku1.mp3', 'farsi11.mp3', 'finnish2.mp3', 'fanti2.mp3', 'farsi9.mp3', 'farsi1.mp3', 'farsi17.mp3', 'farsi13.mp3', 'french11.mp3', 'farsi15.mp3', 'farsi8.mp3', 'farsi12.mp3', 'farsi14.mp3', 'finnish4.mp3', 'finnish6.mp3', 'farsi7.mp3', 'faroese1.mp3', 'finnish5.mp3', 'farsi2.mp3', 'ewe2.mp3', 'farsi5.mp3', 'french5.mp3', 'french3.mp3', 'french23.mp3', 'french17.mp3', 'french39.mp3', 'french21.mp3', 'french49.mp3', 'french47.mp3', 'french4.mp3', 'french26.mp3', 'french45.mp3', 'french28.mp3', 'french34.mp3', 'french25.mp3', 'french33.mp3', 'french51.mp3', 'french24.mp3', 'french16.mp3', 'french31.mp3', 'french14.mp3', 'french37.mp3', 'french54.mp3', 'french53.mp3', 'french50.mp3', 'french41.mp3', 'french38.mp3', 'french20.mp3', 'french32.mp3', 'french43.mp3', 'french15.mp3', 'french35.mp3', 'french19.mp3', 'french52.mp3', 'french27.mp3', 'french29.mp3', 'french40.mp3', 'french30.mp3', 'french42.mp3', 'french48.mp3', 'french46.mp3', 'french44.mp3', 'french2.mp3', 'french22.mp3', 'french36.mp3', 'french18.mp3', 'german21.mp3', 'german12.mp3', 'german1.mp3', 'ga3.mp3', 'german10.mp3', 'garifuna1.mp3', 'georgian2.mp3', 'ga5.mp3', 'georgian5.mp3', 'german11.mp3', 'german18.mp3', 'garifuna2.mp3', 'ga1.mp3', 'german24.mp3', 'german16.mp3', 'ga4.mp3', 'german17.mp3', 'french56.mp3', 'german14.mp3', 'french55.mp3', 'german2.mp3', 'german20.mp3', 'french6.mp3', 'german22.mp3', 'frisian1.mp3', 'french60.mp3', 'french8.mp3', 'georgian1.mp3', 'gedeo1.mp3', 'french57.mp3', 'german19.mp3', 'german13.mp3', 'french7.mp3', 'french61.mp3', 'french9.mp3', 'ga2.mp3', 'german23.mp3', 'french62.mp3', 'georgian4.mp3', 'ganda1.mp3', 'french63.mp3', 'georgian3.mp3', 'gan1.mp3', 'ga6.mp3', 'german15.mp3', 'ganda2.mp3', 'french58.mp3', 'french59.mp3', 'german35.mp3', 'german34.mp3', 'german9.mp3', 'gujarati6.mp3', 'greek9.mp3', 'german28.mp3', 'german31.mp3', 'german5.mp3', 'german32.mp3', 'gujarati1.mp3', 'gujarati3.mp3', 'greek11.mp3', 'greek10.mp3', 'german26.mp3', 'gusii2.mp3', 'german27.mp3', 'gusii1.mp3', 'german4.mp3', 'german30.mp3', 'gujarati7.mp3', 'greek13.mp3', 'german3.mp3', 'hausa1.mp3', 'greek12.mp3', 'german6.mp3', 'greek14.mp3', 'gujarati5.mp3', 'gujarati4.mp3', 'hadiyya1.mp3', 'hadiyya2.mp3', 'german7.mp3', 'gujarati8.mp3', 'german36.mp3', 'greek5.mp3', 'greek4.mp3', 'greek15.mp3', 'greek7.mp3', 'greek3.mp3', 'german29.mp3', 'hainanese1.mp3', 'gujarati2.mp3', 'greek1.mp3', 'greek6.mp3', 'german33.mp3', 'greek2.mp3', 'hakka1.mp3', 'german25.mp3', 'german8.mp3', 'greek8.mp3', 'gujarati9.mp3', 'hindi7.mp3', 'hungarian6.mp3', 'hausa4.mp3', 'hungarian7.mp3', 'hindi5.mp3', 'hungarian8.mp3', 'hebrew2.mp3', 'hindi14.mp3', 'hungarian5.mp3', 'hindi16.mp3', 'hebrew6.mp3', 'hindi10.mp3', 'hindko1.mp3', 'hindi15.mp3', 'hausa2.mp3', 'hindi2.mp3', 'hungarian4.mp3', 'hindi6.mp3', 'hindi3.mp3', 'hindi18.mp3', 'hindi1.mp3', 'hebrew1.mp3', 'hungarian2.mp3', 'hindi17.mp3', 'hebrew5.mp3', 'hausa6.mp3', 'hindi13.mp3', 'hindi8.mp3', 'hindi4.mp3', 'hausa9.mp3', 'hebrew8.mp3', 'hebrew9.mp3', 'afrikaans4.mp3', 'afrikaans3.mp3', 'afrikaans2.mp3', 'afrikaans1.mp3', 'afrikaans5.mp3', 'albanian5.mp3', 'albanian1.mp3', 'akan1.mp3', 'albanian2.mp3', 'albanian4.mp3', 'albanian3.mp3', 'agni1.mp3', 'albanian6.mp3', 'albanian8.mp3', 'amazigh1.mp3', 'albanian9.mp3', 'albanian7.mp3', 'amharic2.mp3', 'arabic12.mp3', 'amharic1.mp3', 'amharic7.mp3', 'amharic14.mp3', 'amharic8.mp3', 'amharic4.mp3', 'arabic22.mp3', 'arabic102.mp3', 'arabic14.mp3', 'amharic19.mp3', 'amharic17.mp3', 'amharic5.mp3', 'arabic10.mp3', 'arabic2.mp3', 'arabic23.mp3', 'arabic15.mp3', 'arabic21.mp3', 'arabic1.mp3', 'amazigh2.mp3', 'amharic10.mp3', 'arabic101.mp3', 'amharic16.mp3', 'amharic18.mp3', 'arabic20.mp3', 'amharic13.mp3', 'arabic18.mp3', 'amharic15.mp3', 'arabic17.mp3', 'arabic11.mp3', 'amharic9.mp3', 'arabic100.mp3', 'amharic11.mp3', 'arabic16.mp3', 'amharic12.mp3', 'arabic19.mp3', 'arabic13.mp3', 'amharic3.mp3', 'amharic6.mp3', 'arabic24.mp3', 'amharic20.mp3', 'arabic35.mp3', 'arabic36.mp3', 'arabic26.mp3', 'arabic31.mp3', 'arabic4.mp3', 'arabic55.mp3', 'arabic49.mp3', 'arabic56.mp3', 'arabic29.mp3', 'arabic45.mp3', 'arabic48.mp3', 'arabic37.mp3', 'arabic44.mp3', 'arabic30.mp3', 'arabic42.mp3', 'arabic5.mp3', 'arabic47.mp3', 'arabic46.mp3', 'arabic43.mp3', 'arabic41.mp3', 'arabic3.mp3', 'arabic57.mp3', 'arabic32.mp3', 'arabic27.mp3', 'arabic39.mp3', 'arabic38.mp3', 'arabic28.mp3', 'arabic52.mp3', 'arabic34.mp3', 'arabic51.mp3', 'arabic53.mp3', 'arabic50.mp3', 'arabic40.mp3', 'arabic25.mp3', 'arabic54.mp3', 'arabic33.mp3', 'arabic64.mp3', 'arabic58.mp3', 'arabic76.mp3', 'arabic77.mp3', 'arabic7.mp3', 'arabic75.mp3', 'arabic63.mp3', 'arabic69.mp3', 'arabic71.mp3', 'arabic95.mp3', 'arabic79.mp3', 'arabic85.mp3', 'arabic90.mp3', 'arabic59.mp3', 'arabic89.mp3', 'arabic72.mp3', 'arabic88.mp3', 'arabic81.mp3', 'arabic73.mp3', 'arabic65.mp3', 'arabic60.mp3', 'arabic6.mp3', 'arabic86.mp3', 'arabic94.mp3', 'arabic68.mp3', 'arabic91.mp3', 'arabic92.mp3', 'arabic84.mp3', 'arabic74.mp3', 'arabic66.mp3', 'arabic82.mp3', 'arabic80.mp3', 'arabic67.mp3', 'arabic83.mp3', 'arabic78.mp3', 'arabic87.mp3', 'arabic9.mp3', 'arabic8.mp3', 'arabic70.mp3', 'arabic93.mp3', 'arabic62.mp3', 'arabic61.mp3', 'arabic99.mp3', 'belarusan3.mp3']\n"
          ]
        }
      ]
    },
    {
      "cell_type": "code",
      "source": [
        "try:\n",
        "    mp3_filenames = os.listdir(mp3_path)\n",
        "    print(f\"Number of files found: {len(mp3_filenames)}\")\n",
        "except FileNotFoundError:\n",
        "    print(f\"Directory not found: {mp3_path}\")"
      ],
      "metadata": {
        "id": "a_rxoe5ebAhu",
        "colab": {
          "base_uri": "https://localhost:8080/"
        },
        "outputId": "e145cc80-aac1-4b2b-d225-30514d3a04b1"
      },
      "execution_count": 6,
      "outputs": [
        {
          "output_type": "stream",
          "name": "stdout",
          "text": [
            "Number of files found: 2138\n"
          ]
        }
      ]
    },
    {
      "cell_type": "code",
      "source": [
        "from pydub import AudioSegment\n",
        "\n",
        "if mp3_filenames:\n",
        "    example_file = mp3_filenames[0]\n",
        "    audio = AudioSegment.from_mp3(mp3_path + example_file)\n",
        "    print(f\"Loaded file: {example_file}\")\n",
        "else:\n",
        "    print(\"No MP3 files found in the directory.\")\n"
      ],
      "metadata": {
        "colab": {
          "base_uri": "https://localhost:8080/"
        },
        "id": "_hy_WbbqbJBo",
        "outputId": "73538db4-0e58-47bc-cc3b-3565ba219ff4"
      },
      "execution_count": 7,
      "outputs": [
        {
          "output_type": "stream",
          "name": "stdout",
          "text": [
            "Loaded file: hebrew7.mp3\n"
          ]
        }
      ]
    },
    {
      "cell_type": "code",
      "source": [
        "wav_path = '/content/drive/MyDrive/DataAML/recordings/wav/'\n",
        "\n",
        "try:\n",
        "    wav_filenames = os.listdir(wav_path)\n",
        "    if wav_filenames:\n",
        "        example_wave_filename = wav_filenames[0]\n",
        "        example_wave, example_sr = librosa.load(wav_path + example_wave_filename, mono=True)\n",
        "        print(f\"Loaded WAV file: {example_wave_filename}\")\n",
        "    else:\n",
        "        print(\"No WAV files found in the directory.\")\n",
        "except FileNotFoundError:\n",
        "    print(f\"Directory not found: {wav_path}\")\n"
      ],
      "metadata": {
        "id": "XmBTynltc7ng",
        "colab": {
          "base_uri": "https://localhost:8080/"
        },
        "outputId": "d19bed4d-1242-411a-c2ba-a6d964e8c509"
      },
      "execution_count": 8,
      "outputs": [
        {
          "output_type": "stream",
          "name": "stdout",
          "text": [
            "Loaded WAV file: dutch3.wav\n"
          ]
        }
      ]
    },
    {
      "cell_type": "code",
      "source": [
        "from tqdm.auto import tqdm\n",
        "\n",
        "file_name_mfcc = []\n",
        "for filename in tqdm(wav_filenames, desc=\"Extracting MFCC\"):\n",
        "    try:\n",
        "        wave, sr = librosa.load(wav_path + filename, mono=True)\n",
        "        mfcc = librosa.feature.mfcc(y=wave, sr=sr)\n",
        "        file_name_mfcc.append([filename, wave, mfcc, sr])\n",
        "    except Exception as e:\n",
        "        print(f\"Error processing {filename}: {e}\")\n"
      ],
      "metadata": {
        "colab": {
          "base_uri": "https://localhost:8080/",
          "height": 49,
          "referenced_widgets": [
            "8451e64a5b134326958d4a1c5743c84e",
            "1eaa6fcacc134457abd7946691d219c5",
            "bffe66e3b1c54566bfff5bf84682b119",
            "d1fc32cd12b34b458130672b7267f08c",
            "d71ea550dc844fe79f938dbf1d2c770a",
            "b28d7870f48a4e439dcc78f8f7ecefed",
            "ef4742aca4fd4e76899bf6f5d7d71589",
            "93ed3b47a0bc488fb186408ba40f5b79",
            "de2467daf2af44dba6698ff4c113ee7d",
            "dc47027dd330478f90ae376640a3c49e",
            "167a504a8f0245b296c3af1b76a223d8"
          ]
        },
        "id": "lE5udaljeDzu",
        "outputId": "d2a85e87-87a7-477e-bc0e-8376063a98dd"
      },
      "execution_count": 9,
      "outputs": [
        {
          "output_type": "display_data",
          "data": {
            "text/plain": [
              "Extracting MFCC:   0%|          | 0/2138 [00:00<?, ?it/s]"
            ],
            "application/vnd.jupyter.widget-view+json": {
              "version_major": 2,
              "version_minor": 0,
              "model_id": "8451e64a5b134326958d4a1c5743c84e"
            }
          },
          "metadata": {}
        }
      ]
    },
    {
      "cell_type": "code",
      "source": [
        "file_name_mfcc_df = pd.DataFrame(file_name_mfcc, columns=['Filename', 'Wave', 'MFCC', 'SampleRate'])\n",
        "print(file_name_mfcc_df.head())\n"
      ],
      "metadata": {
        "colab": {
          "base_uri": "https://localhost:8080/"
        },
        "id": "mhs1yXAyhIUE",
        "outputId": "22308cdd-8a2d-4376-c3f7-019e06139f79"
      },
      "execution_count": 10,
      "outputs": [
        {
          "output_type": "stream",
          "name": "stdout",
          "text": [
            "      Filename                                               Wave  \\\n",
            "0   dutch3.wav  [-1.2286007e-05, -8.648785e-06, -1.2129894e-06...   \n",
            "1  dutch47.wav  [0.00027062165, 0.0004607554, 0.00074456714, 0...   \n",
            "2  dutch23.wav  [0.002694809, 0.00406893, 0.003953251, 0.00417...   \n",
            "3  dutch15.wav  [2.0103284e-05, -8.6206273e-07, 7.642557e-06, ...   \n",
            "4  dutch13.wav  [0.0021557808, 0.0035218182, 0.0029537925, 0.0...   \n",
            "\n",
            "                                                MFCC  SampleRate  \n",
            "0  [[-486.25443, -374.78333, -348.9275, -346.9744...       22050  \n",
            "1  [[-516.39923, -508.06088, -511.3895, -514.771,...       22050  \n",
            "2  [[-548.496, -574.7447, -596.69055, -596.6928, ...       22050  \n",
            "3  [[-611.2188, -611.2188, -611.2188, -611.2188, ...       22050  \n",
            "4  [[-473.73676, -461.5163, -469.26108, -465.6553...       22050  \n"
          ]
        }
      ]
    },
    {
      "cell_type": "code",
      "source": [
        "# Creating a smaller DataFrame with specific columns\n",
        "if 'Filename' in file_name_mfcc_df.columns and 'MFCC' in file_name_mfcc_df.columns:\n",
        "    small_df = file_name_mfcc_df[['Filename', 'MFCC', 'SampleRate']]\n",
        "else:\n",
        "    print(\"Required columns not found in the DataFrame.\")\n"
      ],
      "metadata": {
        "id": "L5HvFiEVhS_Z"
      },
      "execution_count": 17,
      "outputs": []
    },
    {
      "cell_type": "code",
      "source": [
        "if not small_df.empty and 'MFCC' in small_df.columns:\n",
        "    plt.figure(figsize=(10, 4))\n",
        "    librosa.display.specshow(small_df['MFCC'][0], x_axis='time', sr=small_df['SampleRate'][0])\n",
        "    plt.colorbar(format='%+2.0f dB')\n",
        "    plt.title('MFCC')\n",
        "    plt.tight_layout()\n",
        "    plt.show()\n",
        "else:\n",
        "    print(\"MFCC data not available for visualization.\")"
      ],
      "metadata": {
        "colab": {
          "base_uri": "https://localhost:8080/",
          "height": 407
        },
        "id": "qvUzBgtBhijy",
        "outputId": "f29696cd-fb63-4385-d898-f3c0099acd9c"
      },
      "execution_count": 19,
      "outputs": [
        {
          "output_type": "display_data",
          "data": {
            "text/plain": [
              "<Figure size 1000x400 with 2 Axes>"
            ],
            "image/png": "[encoded data removed]"
          },
          "metadata": {}
        }
      ]
    },
    {
      "cell_type": "code",
      "source": [
        "if 'Filename' in small_df.columns:\n",
        "    small_df['native_language'] = small_df['Filename'].str.extract(r'([^\\d]+)', expand=False)\n",
        "else:\n",
        "    print(\"File names not available for label extraction.\")\n"
      ],
      "metadata": {
        "id": "7ILobBfUh7TY"
      },
      "execution_count": 20,
      "outputs": []
    },
    {
      "cell_type": "code",
      "source": [
        "small_df['native_language'] = small_df.apply(lambda x: ''.join([i for i in x['native_language'] if not i.isdigit()]), axis=1)\n"
      ],
      "metadata": {
        "id": "PmdViobBiFRp"
      },
      "execution_count": 21,
      "outputs": []
    },
    {
      "cell_type": "code",
      "source": [
        "small_df['flag']=np.where(small_df['native_language']=='english',1,0)\n",
        "small_df[small_df['native_language']=='english'].iloc[:30]"
      ],
      "metadata": {
        "colab": {
          "base_uri": "https://localhost:8080/",
          "height": 990
        },
        "id": "S27HxcQni1cO",
        "outputId": "09c1d4f2-c67c-44df-ebe2-f1805eba465d"
      },
      "execution_count": 22,
      "outputs": [
        {
          "output_type": "execute_result",
          "data": {
            "text/plain": [
              "          Filename                                               MFCC  \\\n",
              "50  english133.wav  [[-438.1929, -420.52206, -421.09845, -423.3392...   \n",
              "51  english122.wav  [[-579.7075, -575.2393, -575.9098, -576.16833,...   \n",
              "52  english134.wav  [[-428.71567, -425.77945, -446.1692, -445.9987...   \n",
              "53  english103.wav  [[-461.3125, -467.71704, -474.062, -475.93628,...   \n",
              "54  english127.wav  [[-553.33575, -540.83264, -544.7995, -544.0653...   \n",
              "55  english111.wav  [[-529.31384, -529.31384, -529.31384, -529.313...   \n",
              "56  english120.wav  [[-514.93256, -502.24823, -504.01514, -507.324...   \n",
              "57  english106.wav  [[-562.2517, -562.2517, -562.2517, -562.2517, ...   \n",
              "58  english112.wav  [[-523.782, -521.95715, -520.9799, -521.9167, ...   \n",
              "59  english146.wav  [[-500.4557, -508.70013, -535.2393, -539.4193,...   \n",
              "60  english117.wav  [[-521.62634, -521.62634, -521.62634, -521.626...   \n",
              "61  english136.wav  [[-518.85126, -523.8828, -545.4999, -552.8495,...   \n",
              "62  english132.wav  [[-375.22498, -340.68594, -341.28995, -338.660...   \n",
              "63  english143.wav  [[-386.93436, -350.51483, -344.02884, -346.222...   \n",
              "64  english145.wav  [[-286.54004, -322.73163, -376.6527, -382.3887...   \n",
              "65  english121.wav  [[-413.96017, -378.05896, -376.64337, -381.997...   \n",
              "66  english110.wav  [[-563.9938, -563.9728, -564.0191, -564.0019, ...   \n",
              "67  english100.wav  [[-551.81305, -552.03424, -552.09576, -552.087...   \n",
              "68  english138.wav  [[-613.2234, -613.2234, -613.2234, -613.2234, ...   \n",
              "69  english128.wav  [[-501.85678, -484.8843, -493.35733, -492.2396...   \n",
              "70  english135.wav  [[-484.10046, -463.65372, -460.94727, -432.243...   \n",
              "71  english126.wav  [[-433.31296, -389.71777, -379.16153, -391.990...   \n",
              "72  english140.wav  [[-544.44104, -524.8509, -524.7269, -523.86926...   \n",
              "73  english137.wav  [[-602.1133, -602.1133, -602.1133, -602.1133, ...   \n",
              "74  english114.wav  [[-491.54922, -462.20734, -452.09613, -442.349...   \n",
              "76  english125.wav  [[-412.99847, -392.19772, -395.36954, -392.999...   \n",
              "78  english139.wav  [[-490.03207, -471.9587, -485.6463, -494.76157...   \n",
              "79  english129.wav  [[-408.24985, -377.17715, -385.92285, -394.399...   \n",
              "80  english108.wav  [[-484.6188, -484.6188, -484.6188, -484.6188, ...   \n",
              "81  english101.wav  [[-549.53674, -537.9779, -529.9125, -525.55505...   \n",
              "\n",
              "    SampleRate native_language  flag  \n",
              "50       22050         english     1  \n",
              "51       22050         english     1  \n",
              "52       22050         english     1  \n",
              "53       22050         english     1  \n",
              "54       22050         english     1  \n",
              "55       22050         english     1  \n",
              "56       22050         english     1  \n",
              "57       22050         english     1  \n",
              "58       22050         english     1  \n",
              "59       22050         english     1  \n",
              "60       22050         english     1  \n",
              "61       22050         english     1  \n",
              "62       22050         english     1  \n",
              "63       22050         english     1  \n",
              "64       22050         english     1  \n",
              "65       22050         english     1  \n",
              "66       22050         english     1  \n",
              "67       22050         english     1  \n",
              "68       22050         english     1  \n",
              "69       22050         english     1  \n",
              "70       22050         english     1  \n",
              "71       22050         english     1  \n",
              "72       22050         english     1  \n",
              "73       22050         english     1  \n",
              "74       22050         english     1  \n",
              "76       22050         english     1  \n",
              "78       22050         english     1  \n",
              "79       22050         english     1  \n",
              "80       22050         english     1  \n",
              "81       22050         english     1  "
            ],
            "text/html": [
              "\n",
              "  <div id=\"df-0a7768e4-1959-4501-afba-d02fde44ae9c\" class=\"colab-df-container\">\n",
              "    <div>\n",
              "<style scoped>\n",
              "    .dataframe tbody tr th:only-of-type {\n",
              "        vertical-align: middle;\n",
              "    }\n",
              "\n",
              "    .dataframe tbody tr th {\n",
              "        vertical-align: top;\n",
              "    }\n",
              "\n",
              "    .dataframe thead th {\n",
              "        text-align: right;\n",
              "    }\n",
              "</style>\n",
              "<table border=\"1\" class=\"dataframe\">\n",
              "  <thead>\n",
              "    <tr style=\"text-align: right;\">\n",
              "      <th></th>\n",
              "      <th>Filename</th>\n",
              "      <th>MFCC</th>\n",
              "      <th>SampleRate</th>\n",
              "      <th>native_language</th>\n",
              "      <th>flag</th>\n",
              "    </tr>\n",
              "  </thead>\n",
              "  <tbody>\n",
              "    <tr>\n",
              "      <th>50</th>\n",
              "      <td>english133.wav</td>\n",
              "      <td>[[-438.1929, -420.52206, -421.09845, -423.3392...</td>\n",
              "      <td>22050</td>\n",
              "      <td>english</td>\n",
              "      <td>1</td>\n",
              "    </tr>\n",
              "    <tr>\n",
              "      <th>51</th>\n",
              "      <td>english122.wav</td>\n",
              "      <td>[[-579.7075, -575.2393, -575.9098, -576.16833,...</td>\n",
              "      <td>22050</td>\n",
              "      <td>english</td>\n",
              "      <td>1</td>\n",
              "    </tr>\n",
              "    <tr>\n",
              "      <th>52</th>\n",
              "      <td>english134.wav</td>\n",
              "      <td>[[-428.71567, -425.77945, -446.1692, -445.9987...</td>\n",
              "      <td>22050</td>\n",
              "      <td>english</td>\n",
              "      <td>1</td>\n",
              "    </tr>\n",
              "    <tr>\n",
              "      <th>53</th>\n",
              "      <td>english103.wav</td>\n",
              "      <td>[[-461.3125, -467.71704, -474.062, -475.93628,...</td>\n",
              "      <td>22050</td>\n",
              "      <td>english</td>\n",
              "      <td>1</td>\n",
              "    </tr>\n",
              "    <tr>\n",
              "      <th>54</th>\n",
              "      <td>english127.wav</td>\n",
              "      <td>[[-553.33575, -540.83264, -544.7995, -544.0653...</td>\n",
              "      <td>22050</td>\n",
              "      <td>english</td>\n",
              "      <td>1</td>\n",
              "    </tr>\n",
              "    <tr>\n",
              "      <th>55</th>\n",
              "      <td>english111.wav</td>\n",
              "      <td>[[-529.31384, -529.31384, -529.31384, -529.313...</td>\n",
              "      <td>22050</td>\n",
              "      <td>english</td>\n",
              "      <td>1</td>\n",
              "    </tr>\n",
              "    <tr>\n",
              "      <th>56</th>\n",
              "      <td>english120.wav</td>\n",
              "      <td>[[-514.93256, -502.24823, -504.01514, -507.324...</td>\n",
              "      <td>22050</td>\n",
              "      <td>english</td>\n",
              "      <td>1</td>\n",
              "    </tr>\n",
              "    <tr>\n",
              "      <th>57</th>\n",
              "      <td>english106.wav</td>\n",
              "      <td>[[-562.2517, -562.2517, -562.2517, -562.2517, ...</td>\n",
              "      <td>22050</td>\n",
              "      <td>english</td>\n",
              "      <td>1</td>\n",
              "    </tr>\n",
              "    <tr>\n",
              "      <th>58</th>\n",
              "      <td>english112.wav</td>\n",
              "      <td>[[-523.782, -521.95715, -520.9799, -521.9167, ...</td>\n",
              "      <td>22050</td>\n",
              "      <td>english</td>\n",
              "      <td>1</td>\n",
              "    </tr>\n",
              "    <tr>\n",
              "      <th>59</th>\n",
              "      <td>english146.wav</td>\n",
              "      <td>[[-500.4557, -508.70013, -535.2393, -539.4193,...</td>\n",
              "      <td>22050</td>\n",
              "      <td>english</td>\n",
              "      <td>1</td>\n",
              "    </tr>\n",
              "    <tr>\n",
              "      <th>60</th>\n",
              "      <td>english117.wav</td>\n",
              "      <td>[[-521.62634, -521.62634, -521.62634, -521.626...</td>\n",
              "      <td>22050</td>\n",
              "      <td>english</td>\n",
              "      <td>1</td>\n",
              "    </tr>\n",
              "    <tr>\n",
              "      <th>61</th>\n",
              "      <td>english136.wav</td>\n",
              "      <td>[[-518.85126, -523.8828, -545.4999, -552.8495,...</td>\n",
              "      <td>22050</td>\n",
              "      <td>english</td>\n",
              "      <td>1</td>\n",
              "    </tr>\n",
              "    <tr>\n",
              "      <th>62</th>\n",
              "      <td>english132.wav</td>\n",
              "      <td>[[-375.22498, -340.68594, -341.28995, -338.660...</td>\n",
              "      <td>22050</td>\n",
              "      <td>english</td>\n",
              "      <td>1</td>\n",
              "    </tr>\n",
              "    <tr>\n",
              "      <th>63</th>\n",
              "      <td>english143.wav</td>\n",
              "      <td>[[-386.93436, -350.51483, -344.02884, -346.222...</td>\n",
              "      <td>22050</td>\n",
              "      <td>english</td>\n",
              "      <td>1</td>\n",
              "    </tr>\n",
              "    <tr>\n",
              "      <th>64</th>\n",
              "      <td>english145.wav</td>\n",
              "      <td>[[-286.54004, -322.73163, -376.6527, -382.3887...</td>\n",
              "      <td>22050</td>\n",
              "      <td>english</td>\n",
              "      <td>1</td>\n",
              "    </tr>\n",
              "    <tr>\n",
              "      <th>65</th>\n",
              "      <td>english121.wav</td>\n",
              "      <td>[[-413.96017, -378.05896, -376.64337, -381.997...</td>\n",
              "      <td>22050</td>\n",
              "      <td>english</td>\n",
              "      <td>1</td>\n",
              "    </tr>\n",
              "    <tr>\n",
              "      <th>66</th>\n",
              "      <td>english110.wav</td>\n",
              "      <td>[[-563.9938, -563.9728, -564.0191, -564.0019, ...</td>\n",
              "      <td>22050</td>\n",
              "      <td>english</td>\n",
              "      <td>1</td>\n",
              "    </tr>\n",
              "    <tr>\n",
              "      <th>67</th>\n",
              "      <td>english100.wav</td>\n",
              "      <td>[[-551.81305, -552.03424, -552.09576, -552.087...</td>\n",
              "      <td>22050</td>\n",
              "      <td>english</td>\n",
              "      <td>1</td>\n",
              "    </tr>\n",
              "    <tr>\n",
              "      <th>68</th>\n",
              "      <td>english138.wav</td>\n",
              "      <td>[[-613.2234, -613.2234, -613.2234, -613.2234, ...</td>\n",
              "      <td>22050</td>\n",
              "      <td>english</td>\n",
              "      <td>1</td>\n",
              "    </tr>\n",
              "    <tr>\n",
              "      <th>69</th>\n",
              "      <td>english128.wav</td>\n",
              "      <td>[[-501.85678, -484.8843, -493.35733, -492.2396...</td>\n",
              "      <td>22050</td>\n",
              "      <td>english</td>\n",
              "      <td>1</td>\n",
              "    </tr>\n",
              "    <tr>\n",
              "      <th>70</th>\n",
              "      <td>english135.wav</td>\n",
              "      <td>[[-484.10046, -463.65372, -460.94727, -432.243...</td>\n",
              "      <td>22050</td>\n",
              "      <td>english</td>\n",
              "      <td>1</td>\n",
              "    </tr>\n",
              "    <tr>\n",
              "      <th>71</th>\n",
              "      <td>english126.wav</td>\n",
              "      <td>[[-433.31296, -389.71777, -379.16153, -391.990...</td>\n",
              "      <td>22050</td>\n",
              "      <td>english</td>\n",
              "      <td>1</td>\n",
              "    </tr>\n",
              "    <tr>\n",
              "      <th>72</th>\n",
              "      <td>english140.wav</td>\n",
              "      <td>[[-544.44104, -524.8509, -524.7269, -523.86926...</td>\n",
              "      <td>22050</td>\n",
              "      <td>english</td>\n",
              "      <td>1</td>\n",
              "    </tr>\n",
              "    <tr>\n",
              "      <th>73</th>\n",
              "      <td>english137.wav</td>\n",
              "      <td>[[-602.1133, -602.1133, -602.1133, -602.1133, ...</td>\n",
              "      <td>22050</td>\n",
              "      <td>english</td>\n",
              "      <td>1</td>\n",
              "    </tr>\n",
              "    <tr>\n",
              "      <th>74</th>\n",
              "      <td>english114.wav</td>\n",
              "      <td>[[-491.54922, -462.20734, -452.09613, -442.349...</td>\n",
              "      <td>22050</td>\n",
              "      <td>english</td>\n",
              "      <td>1</td>\n",
              "    </tr>\n",
              "    <tr>\n",
              "      <th>76</th>\n",
              "      <td>english125.wav</td>\n",
              "      <td>[[-412.99847, -392.19772, -395.36954, -392.999...</td>\n",
              "      <td>22050</td>\n",
              "      <td>english</td>\n",
              "      <td>1</td>\n",
              "    </tr>\n",
              "    <tr>\n",
              "      <th>78</th>\n",
              "      <td>english139.wav</td>\n",
              "      <td>[[-490.03207, -471.9587, -485.6463, -494.76157...</td>\n",
              "      <td>22050</td>\n",
              "      <td>english</td>\n",
              "      <td>1</td>\n",
              "    </tr>\n",
              "    <tr>\n",
              "      <th>79</th>\n",
              "      <td>english129.wav</td>\n",
              "      <td>[[-408.24985, -377.17715, -385.92285, -394.399...</td>\n",
              "      <td>22050</td>\n",
              "      <td>english</td>\n",
              "      <td>1</td>\n",
              "    </tr>\n",
              "    <tr>\n",
              "      <th>80</th>\n",
              "      <td>english108.wav</td>\n",
              "      <td>[[-484.6188, -484.6188, -484.6188, -484.6188, ...</td>\n",
              "      <td>22050</td>\n",
              "      <td>english</td>\n",
              "      <td>1</td>\n",
              "    </tr>\n",
              "    <tr>\n",
              "      <th>81</th>\n",
              "      <td>english101.wav</td>\n",
              "      <td>[[-549.53674, -537.9779, -529.9125, -525.55505...</td>\n",
              "      <td>22050</td>\n",
              "      <td>english</td>\n",
              "      <td>1</td>\n",
              "    </tr>\n",
              "  </tbody>\n",
              "</table>\n",
              "</div>\n",
              "    <div class=\"colab-df-buttons\">\n",
              "\n",
              "  <div class=\"colab-df-container\">\n",
              "    <button class=\"colab-df-convert\" onclick=\"convertToInteractive('df-0a7768e4-1959-4501-afba-d02fde44ae9c')\"\n",
              "            title=\"Convert this dataframe to an interactive table.\"\n",
              "            style=\"display:none;\">\n",
              "\n",
              "  <svg xmlns=\"http://www.w3.org/2000/svg\" height=\"24px\" viewBox=\"0 -960 960 960\">\n",
              "    <path d=\"M120-120v-720h720v720H120Zm60-500h600v-160H180v160Zm220 220h160v-160H400v160Zm0 220h160v-160H400v160ZM180-400h160v-160H180v160Zm440 0h160v-160H620v160ZM180-180h160v-160H180v160Zm440 0h160v-160H620v160Z\"/>\n",
              "  </svg>\n",
              "    </button>\n",
              "\n",
              "  <style>\n",
              "    .colab-df-container {\n",
              "      display:flex;\n",
              "      gap: 12px;\n",
              "    }\n",
              "\n",
              "    .colab-df-convert {\n",
              "      background-color: #E8F0FE;\n",
              "      border: none;\n",
              "      border-radius: 50%;\n",
              "      cursor: pointer;\n",
              "      display: none;\n",
              "      fill: #1967D2;\n",
              "      height: 32px;\n",
              "      padding: 0 0 0 0;\n",
              "      width: 32px;\n",
              "    }\n",
              "\n",
              "    .colab-df-convert:hover {\n",
              "      background-color: #E2EBFA;\n",
              "      box-shadow: 0px 1px 2px rgba(60, 64, 67, 0.3), 0px 1px 3px 1px rgba(60, 64, 67, 0.15);\n",
              "      fill: #174EA6;\n",
              "    }\n",
              "\n",
              "    .colab-df-buttons div {\n",
              "      margin-bottom: 4px;\n",
              "    }\n",
              "\n",
              "    [theme=dark] .colab-df-convert {\n",
              "      background-color: #3B4455;\n",
              "      fill: #D2E3FC;\n",
              "    }\n",
              "\n",
              "    [theme=dark] .colab-df-convert:hover {\n",
              "      background-color: #434B5C;\n",
              "      box-shadow: 0px 1px 3px 1px rgba(0, 0, 0, 0.15);\n",
              "      filter: drop-shadow(0px 1px 2px rgba(0, 0, 0, 0.3));\n",
              "      fill: #FFFFFF;\n",
              "    }\n",
              "  </style>\n",
              "\n",
              "    <script>\n",
              "      const buttonEl =\n",
              "        document.querySelector('#df-0a7768e4-1959-4501-afba-d02fde44ae9c button.colab-df-convert');\n",
              "      buttonEl.style.display =\n",
              "        google.colab.kernel.accessAllowed ? 'block' : 'none';\n",
              "\n",
              "      async function convertToInteractive(key) {\n",
              "        const element = document.querySelector('#df-0a7768e4-1959-4501-afba-d02fde44ae9c');\n",
              "        const dataTable =\n",
              "          await google.colab.kernel.invokeFunction('convertToInteractive',\n",
              "                                                    [key], {});\n",
              "        if (!dataTable) return;\n",
              "\n",
              "        const docLinkHtml = 'Like what you see? Visit the ' +\n",
              "          '<a target=\"_blank\" href=https://colab.research.google.com/notebooks/data_table.ipynb>data table notebook</a>'\n",
              "          + ' to learn more about interactive tables.';\n",
              "        element.innerHTML = '';\n",
              "        dataTable['output_type'] = 'display_data';\n",
              "        await google.colab.output.renderOutput(dataTable, element);\n",
              "        const docLink = document.createElement('div');\n",
              "        docLink.innerHTML = docLinkHtml;\n",
              "        element.appendChild(docLink);\n",
              "      }\n",
              "    </script>\n",
              "  </div>\n",
              "\n",
              "\n",
              "<div id=\"df-5400eb06-c7f8-420c-ae55-f6969268d2c7\">\n",
              "  <button class=\"colab-df-quickchart\" onclick=\"quickchart('df-5400eb06-c7f8-420c-ae55-f6969268d2c7')\"\n",
              "            title=\"Suggest charts\"\n",
              "            style=\"display:none;\">\n",
              "\n",
              "<svg xmlns=\"http://www.w3.org/2000/svg\" height=\"24px\"viewBox=\"0 0 24 24\"\n",
              "     width=\"24px\">\n",
              "    <g>\n",
              "        <path d=\"M19 3H5c-1.1 0-2 .9-2 2v14c0 1.1.9 2 2 2h14c1.1 0 2-.9 2-2V5c0-1.1-.9-2-2-2zM9 17H7v-7h2v7zm4 0h-2V7h2v10zm4 0h-2v-4h2v4z\"/>\n",
              "    </g>\n",
              "</svg>\n",
              "  </button>\n",
              "\n",
              "<style>\n",
              "  .colab-df-quickchart {\n",
              "      --bg-color: #E8F0FE;\n",
              "      --fill-color: #1967D2;\n",
              "      --hover-bg-color: #E2EBFA;\n",
              "      --hover-fill-color: #174EA6;\n",
              "      --disabled-fill-color: #AAA;\n",
              "      --disabled-bg-color: #DDD;\n",
              "  }\n",
              "\n",
              "  [theme=dark] .colab-df-quickchart {\n",
              "      --bg-color: #3B4455;\n",
              "      --fill-color: #D2E3FC;\n",
              "      --hover-bg-color: #434B5C;\n",
              "      --hover-fill-color: #FFFFFF;\n",
              "      --disabled-bg-color: #3B4455;\n",
              "      --disabled-fill-color: #666;\n",
              "  }\n",
              "\n",
              "  .colab-df-quickchart {\n",
              "    background-color: var(--bg-color);\n",
              "    border: none;\n",
              "    border-radius: 50%;\n",
              "    cursor: pointer;\n",
              "    display: none;\n",
              "    fill: var(--fill-color);\n",
              "    height: 32px;\n",
              "    padding: 0;\n",
              "    width: 32px;\n",
              "  }\n",
              "\n",
              "  .colab-df-quickchart:hover {\n",
              "    background-color: var(--hover-bg-color);\n",
              "    box-shadow: 0 1px 2px rgba(60, 64, 67, 0.3), 0 1px 3px 1px rgba(60, 64, 67, 0.15);\n",
              "    fill: var(--button-hover-fill-color);\n",
              "  }\n",
              "\n",
              "  .colab-df-quickchart-complete:disabled,\n",
              "  .colab-df-quickchart-complete:disabled:hover {\n",
              "    background-color: var(--disabled-bg-color);\n",
              "    fill: var(--disabled-fill-color);\n",
              "    box-shadow: none;\n",
              "  }\n",
              "\n",
              "  .colab-df-spinner {\n",
              "    border: 2px solid var(--fill-color);\n",
              "    border-color: transparent;\n",
              "    border-bottom-color: var(--fill-color);\n",
              "    animation:\n",
              "      spin 1s steps(1) infinite;\n",
              "  }\n",
              "\n",
              "  @keyframes spin {\n",
              "    0% {\n",
              "      border-color: transparent;\n",
              "      border-bottom-color: var(--fill-color);\n",
              "      border-left-color: var(--fill-color);\n",
              "    }\n",
              "    20% {\n",
              "      border-color: transparent;\n",
              "      border-left-color: var(--fill-color);\n",
              "      border-top-color: var(--fill-color);\n",
              "    }\n",
              "    30% {\n",
              "      border-color: transparent;\n",
              "      border-left-color: var(--fill-color);\n",
              "      border-top-color: var(--fill-color);\n",
              "      border-right-color: var(--fill-color);\n",
              "    }\n",
              "    40% {\n",
              "      border-color: transparent;\n",
              "      border-right-color: var(--fill-color);\n",
              "      border-top-color: var(--fill-color);\n",
              "    }\n",
              "    60% {\n",
              "      border-color: transparent;\n",
              "      border-right-color: var(--fill-color);\n",
              "    }\n",
              "    80% {\n",
              "      border-color: transparent;\n",
              "      border-right-color: var(--fill-color);\n",
              "      border-bottom-color: var(--fill-color);\n",
              "    }\n",
              "    90% {\n",
              "      border-color: transparent;\n",
              "      border-bottom-color: var(--fill-color);\n",
              "    }\n",
              "  }\n",
              "</style>\n",
              "\n",
              "  <script>\n",
              "    async function quickchart(key) {\n",
              "      const quickchartButtonEl =\n",
              "        document.querySelector('#' + key + ' button');\n",
              "      quickchartButtonEl.disabled = true;  // To prevent multiple clicks.\n",
              "      quickchartButtonEl.classList.add('colab-df-spinner');\n",
              "      try {\n",
              "        const charts = await google.colab.kernel.invokeFunction(\n",
              "            'suggestCharts', [key], {});\n",
              "      } catch (error) {\n",
              "        console.error('Error during call to suggestCharts:', error);\n",
              "      }\n",
              "      quickchartButtonEl.classList.remove('colab-df-spinner');\n",
              "      quickchartButtonEl.classList.add('colab-df-quickchart-complete');\n",
              "    }\n",
              "    (() => {\n",
              "      let quickchartButtonEl =\n",
              "        document.querySelector('#df-5400eb06-c7f8-420c-ae55-f6969268d2c7 button');\n",
              "      quickchartButtonEl.style.display =\n",
              "        google.colab.kernel.accessAllowed ? 'block' : 'none';\n",
              "    })();\n",
              "  </script>\n",
              "</div>\n",
              "\n",
              "    </div>\n",
              "  </div>\n"
            ]
          },
          "metadata": {},
          "execution_count": 22
        }
      ]
    },
    {
      "cell_type": "code",
      "source": [
        "if 'MFCC' in small_df.columns and not small_df['MFCC'].empty:\n",
        "    MFCC_MAX_LEN = max(arr.shape[1] for arr in small_df['MFCC'])\n",
        "    print(f\"Maximum MFCC Length: {MFCC_MAX_LEN}\")\n",
        "else:\n",
        "    print(\"MFCC column not found or empty.\")\n"
      ],
      "metadata": {
        "colab": {
          "base_uri": "https://localhost:8080/"
        },
        "id": "w_3DLXRpjFkh",
        "outputId": "16f66369-22a2-4a82-f86e-c794851b485d"
      },
      "execution_count": 23,
      "outputs": [
        {
          "output_type": "stream",
          "name": "stdout",
          "text": [
            "Maximum MFCC Length: 4589\n"
          ]
        }
      ]
    },
    {
      "cell_type": "code",
      "source": [
        "if 'MFCC' in small_df.columns and not small_df['MFCC'].empty:\n",
        "    MFCC_NUM = max(arr.shape[0] for arr in small_df['MFCC'])\n",
        "    print(f\"Number of MFCC Coefficients: {MFCC_NUM}\")\n",
        "else:\n",
        "    print(\"MFCC column not found or empty.\")\n"
      ],
      "metadata": {
        "colab": {
          "base_uri": "https://localhost:8080/"
        },
        "id": "oH44SAvOjkPm",
        "outputId": "28a26d02-ade4-4bd3-b290-4a07f4f1f7d4"
      },
      "execution_count": 24,
      "outputs": [
        {
          "output_type": "stream",
          "name": "stdout",
          "text": [
            "Number of MFCC Coefficients: 20\n"
          ]
        }
      ]
    },
    {
      "cell_type": "code",
      "source": [
        "def resize_mfcc(df, max_len):\n",
        "    if 'MFCC' in df.columns:\n",
        "        df['padded_mfcc'] = df['MFCC'].apply(lambda x: librosa.util.fix_length(data=x, size=max_len, axis=1))\n",
        "        return df\n",
        "    else:\n",
        "        print(\"MFCC column not found in the DataFrame.\")\n",
        "        return df\n",
        "\n",
        "if 'MFCC_MAX_LEN' in locals():\n",
        "    df = resize_mfcc(small_df, MFCC_MAX_LEN)\n",
        "else:\n",
        "    print(\"MFCC_MAX_LEN not defined.\")\n"
      ],
      "metadata": {
        "id": "jmWPngMTkvxw"
      },
      "execution_count": 25,
      "outputs": []
    },
    {
      "cell_type": "code",
      "source": [
        "from sklearn.model_selection import train_test_split\n",
        "\n",
        "if not df.empty:\n",
        "    train_df, rest_df = train_test_split(df, test_size=0.6, random_state=123)\n",
        "    val_df, test_df = train_test_split(rest_df, test_size=0.5, random_state=123)\n",
        "else:\n",
        "    print(\"DataFrame is empty. Cannot split data.\")\n"
      ],
      "metadata": {
        "id": "7-g7WPJqlRXf"
      },
      "execution_count": 26,
      "outputs": []
    },
    {
      "cell_type": "code",
      "source": [
        "if not train_df.empty and 'padded_mfcc' in train_df.columns:\n",
        "    x_train = np.array(list(train_df['padded_mfcc']))\n",
        "else:\n",
        "    print(\"Training data is not available or incomplete.\")\n",
        "\n",
        "if not val_df.empty and 'padded_mfcc' in val_df.columns:\n",
        "    x_val = np.array(list(val_df['padded_mfcc']))\n",
        "else:\n",
        "    print(\"Validation data is not available or incomplete.\")\n",
        "\n",
        "if not test_df.empty and 'padded_mfcc' in test_df.columns:\n",
        "    x_test = np.array(list(test_df['padded_mfcc']))\n",
        "else:\n",
        "    print(\"Test data is not available or incomplete.\")\n"
      ],
      "metadata": {
        "id": "nSOuugcUlq_c"
      },
      "execution_count": 27,
      "outputs": []
    },
    {
      "cell_type": "code",
      "source": [
        "label_column = 'flag'  # Replace with the actual label column name if different\n",
        "\n",
        "if label_column in train_df.columns:\n",
        "    y_train = train_df[label_column].values\n",
        "else:\n",
        "    print(\"Label column not found in training data.\")\n",
        "\n",
        "if label_column in val_df.columns:\n",
        "    y_val = val_df[label_column].values\n",
        "else:\n",
        "    print(\"Label column not found in validation data.\")\n",
        "\n",
        "if label_column in test_df.columns:\n",
        "    y_test = test_df[label_column].values\n",
        "else:\n",
        "    print(\"Label column not found in test data.\")\n"
      ],
      "metadata": {
        "id": "bi4ddWO5mIkI"
      },
      "execution_count": 28,
      "outputs": []
    },
    {
      "cell_type": "code",
      "source": [
        "feature_dim_1 = MFCC_NUM\n",
        "feature_dim_2 = MFCC_MAX_LEN\n",
        "channel = 1"
      ],
      "metadata": {
        "id": "DnOQG65omUG0"
      },
      "execution_count": 29,
      "outputs": []
    },
    {
      "cell_type": "code",
      "source": [
        "x_train_reshaped = x_train.reshape(x_train.shape[0], feature_dim_1, feature_dim_2, channel)\n",
        "x_val_reshaped = x_val.reshape(x_val.shape[0], feature_dim_1, feature_dim_2, channel)\n",
        "x_test_reshaped =  x_test.reshape(x_test.shape[0], feature_dim_1, feature_dim_2, channel)"
      ],
      "metadata": {
        "id": "VQQGnSj1mlvX"
      },
      "execution_count": 30,
      "outputs": []
    },
    {
      "cell_type": "code",
      "source": [
        "from tensorflow.keras.utils import to_categorical\n",
        "\n",
        "# Assuming y_train is a 1D array of integer labels\n",
        "y_train_encoded = to_categorical(y_train)\n",
        "num_classes = y_train_encoded.shape[1]\n",
        "\n",
        "y_val_encoded = to_categorical(y_val)\n"
      ],
      "metadata": {
        "id": "pmF3uhhwQEwQ"
      },
      "execution_count": 51,
      "outputs": []
    },
    {
      "cell_type": "code",
      "source": [
        "from tensorflow.keras.models import Sequential\n",
        "from tensorflow.keras.layers import Conv2D, Activation, MaxPooling2D, Dropout, Flatten, Dense, BatchNormalization\n",
        "from tensorflow.keras.layers import LeakyReLU\n",
        "from tensorflow.keras.layers import Bidirectional\n",
        "from tensorflow.keras.layers import Bidirectional, LSTM, Dense, Dropout, BatchNormalization\n",
        "\n",
        "\n",
        "model = Sequential()\n",
        "model.add(Bidirectional(LSTM(128, return_sequences=True, input_shape=(x_train.shape[1], x_train.shape[2]))))\n",
        "model.add(BatchNormalization())\n",
        "model.add(Dropout(0.5))\n",
        "\n",
        "model.add(Bidirectional(LSTM(128, return_sequences=True)))\n",
        "model.add(BatchNormalization())\n",
        "model.add(Dropout(0.5))\n",
        "\n",
        "model.add(Bidirectional(LSTM(64)))\n",
        "model.add(BatchNormalization())\n",
        "model.add(Dropout(0.5))\n",
        "\n",
        "model.add(Dense(64, activation='relu'))\n",
        "model.add(BatchNormalization())\n",
        "model.add(Dropout(0.5))\n",
        "\n",
        "from tensorflow.keras.utils import to_categorical\n",
        "\n",
        "# Assuming y_train is a 1D array of integer labels\n",
        "y_train_encoded = to_categorical(y_train)\n",
        "num_classes = y_train_encoded.shape[1]\n",
        "\n",
        "model.add(Dense(1, activation='sigmoid'))"
      ],
      "metadata": {
        "id": "4FngzetLnPv6"
      },
      "execution_count": 55,
      "outputs": []
    },
    {
      "cell_type": "code",
      "source": [
        "callbacks = [TensorBoard(log_dir='./logs')]"
      ],
      "metadata": {
        "id": "Y-OgnxfbppV0"
      },
      "execution_count": 56,
      "outputs": []
    },
    {
      "cell_type": "code",
      "source": [
        "# Assuming x_train_reshaped is your input with shape (None, 20, 4589, 1)\n",
        "# And you want to remove the last dimension because it's unnecessary\n",
        "x_train_reshaped = x_train_reshaped.reshape(x_train_reshaped.shape[0], x_train_reshaped.shape[1], x_train_reshaped.shape[2])\n"
      ],
      "metadata": {
        "id": "rQ00OuY9QhH5"
      },
      "execution_count": 57,
      "outputs": []
    },
    {
      "cell_type": "code",
      "source": [
        "import tensorflow as tf\n",
        "from tensorflow import keras\n",
        "\n",
        "# Assuming model is already defined and x_train_reshaped, y_train, x_val_reshaped, y_val, and callbacks are defined\n",
        "\n",
        "model.compile(loss='categorical_crossentropy', optimizer=Adam(learning_rate=0.001), metrics=['accuracy'])\n",
        "\n",
        "history = model.fit(x_train_reshaped, y_train,\n",
        "                    batch_size=64,\n",
        "                    epochs=200,\n",
        "                    verbose=1,\n",
        "                    validation_data=(x_val_reshaped, y_val),\n",
        "                    callbacks=callbacks,\n",
        "                    class_weight={0: 1, 1: int(len(y_train)/y_train.sum())})\n"
      ],
      "metadata": {
        "colab": {
          "base_uri": "https://localhost:8080/"
        },
        "id": "FuFXeF0op1ep",
        "outputId": "c0ce052b-2abe-4c41-d5be-f10460b038f0"
      },
      "execution_count": 59,
      "outputs": [
        {
          "output_type": "stream",
          "name": "stdout",
          "text": [
            "Epoch 1/200\n",
            "14/14 [==============================] - 13s 222ms/step - loss: 0.0000e+00 - accuracy: 0.5170 - val_loss: 0.0000e+00 - val_accuracy: 0.7254\n",
            "Epoch 2/200\n",
            "14/14 [==============================] - 1s 39ms/step - loss: 0.0000e+00 - accuracy: 0.5766 - val_loss: 0.0000e+00 - val_accuracy: 0.7348\n",
            "Epoch 3/200\n",
            "14/14 [==============================] - 1s 38ms/step - loss: 0.0000e+00 - accuracy: 0.6398 - val_loss: 0.0000e+00 - val_accuracy: 0.7317\n",
            "Epoch 4/200\n",
            "14/14 [==============================] - 1s 38ms/step - loss: 0.0000e+00 - accuracy: 0.6269 - val_loss: 0.0000e+00 - val_accuracy: 0.7176\n",
            "Epoch 5/200\n",
            "14/14 [==============================] - 1s 38ms/step - loss: 0.0000e+00 - accuracy: 0.6456 - val_loss: 0.0000e+00 - val_accuracy: 0.6615\n",
            "Epoch 6/200\n",
            "14/14 [==============================] - 1s 39ms/step - loss: 0.0000e+00 - accuracy: 0.6842 - val_loss: 0.0000e+00 - val_accuracy: 0.6895\n",
            "Epoch 7/200\n",
            "14/14 [==============================] - 1s 37ms/step - loss: 0.0000e+00 - accuracy: 0.7064 - val_loss: 0.0000e+00 - val_accuracy: 0.6786\n",
            "Epoch 8/200\n",
            "14/14 [==============================] - 1s 38ms/step - loss: 0.0000e+00 - accuracy: 0.7368 - val_loss: 0.0000e+00 - val_accuracy: 0.6973\n",
            "Epoch 9/200\n",
            "14/14 [==============================] - 1s 38ms/step - loss: 0.0000e+00 - accuracy: 0.7942 - val_loss: 0.0000e+00 - val_accuracy: 0.7348\n",
            "Epoch 10/200\n",
            "14/14 [==============================] - 1s 40ms/step - loss: 0.0000e+00 - accuracy: 0.8468 - val_loss: 0.0000e+00 - val_accuracy: 0.7036\n",
            "Epoch 11/200\n",
            "14/14 [==============================] - 1s 39ms/step - loss: 0.0000e+00 - accuracy: 0.8819 - val_loss: 0.0000e+00 - val_accuracy: 0.7410\n",
            "Epoch 12/200\n",
            "14/14 [==============================] - 1s 39ms/step - loss: 0.0000e+00 - accuracy: 0.8994 - val_loss: 0.0000e+00 - val_accuracy: 0.7192\n",
            "Epoch 13/200\n",
            "14/14 [==============================] - 1s 37ms/step - loss: 0.0000e+00 - accuracy: 0.9404 - val_loss: 0.0000e+00 - val_accuracy: 0.7348\n",
            "Epoch 14/200\n",
            "14/14 [==============================] - 1s 37ms/step - loss: 0.0000e+00 - accuracy: 0.9439 - val_loss: 0.0000e+00 - val_accuracy: 0.7192\n",
            "Epoch 15/200\n",
            "14/14 [==============================] - 1s 37ms/step - loss: 0.0000e+00 - accuracy: 0.9532 - val_loss: 0.0000e+00 - val_accuracy: 0.7145\n",
            "Epoch 16/200\n",
            "14/14 [==============================] - 1s 36ms/step - loss: 0.0000e+00 - accuracy: 0.9135 - val_loss: 0.0000e+00 - val_accuracy: 0.7363\n",
            "Epoch 17/200\n",
            "14/14 [==============================] - 1s 38ms/step - loss: 0.0000e+00 - accuracy: 0.9462 - val_loss: 0.0000e+00 - val_accuracy: 0.7020\n",
            "Epoch 18/200\n",
            "14/14 [==============================] - 1s 37ms/step - loss: 0.0000e+00 - accuracy: 0.9322 - val_loss: 0.0000e+00 - val_accuracy: 0.7270\n",
            "Epoch 19/200\n",
            "14/14 [==============================] - 0s 36ms/step - loss: 0.0000e+00 - accuracy: 0.9251 - val_loss: 0.0000e+00 - val_accuracy: 0.7348\n",
            "Epoch 20/200\n",
            "14/14 [==============================] - 0s 36ms/step - loss: 0.0000e+00 - accuracy: 0.9251 - val_loss: 0.0000e+00 - val_accuracy: 0.7270\n",
            "Epoch 21/200\n",
            "14/14 [==============================] - 0s 36ms/step - loss: 0.0000e+00 - accuracy: 0.9439 - val_loss: 0.0000e+00 - val_accuracy: 0.7192\n",
            "Epoch 22/200\n",
            "14/14 [==============================] - 1s 38ms/step - loss: 0.0000e+00 - accuracy: 0.9251 - val_loss: 0.0000e+00 - val_accuracy: 0.7020\n",
            "Epoch 23/200\n",
            "14/14 [==============================] - 0s 37ms/step - loss: 0.0000e+00 - accuracy: 0.9368 - val_loss: 0.0000e+00 - val_accuracy: 0.5850\n",
            "Epoch 24/200\n",
            "14/14 [==============================] - 0s 36ms/step - loss: 0.0000e+00 - accuracy: 0.9251 - val_loss: 0.0000e+00 - val_accuracy: 0.6552\n",
            "Epoch 25/200\n",
            "14/14 [==============================] - 1s 37ms/step - loss: 0.0000e+00 - accuracy: 0.9415 - val_loss: 0.0000e+00 - val_accuracy: 0.7270\n",
            "Epoch 26/200\n",
            "14/14 [==============================] - 1s 37ms/step - loss: 0.0000e+00 - accuracy: 0.9368 - val_loss: 0.0000e+00 - val_accuracy: 0.7395\n",
            "Epoch 27/200\n",
            "14/14 [==============================] - 1s 37ms/step - loss: 0.0000e+00 - accuracy: 0.9544 - val_loss: 0.0000e+00 - val_accuracy: 0.7520\n",
            "Epoch 28/200\n",
            "14/14 [==============================] - 0s 37ms/step - loss: 0.0000e+00 - accuracy: 0.9602 - val_loss: 0.0000e+00 - val_accuracy: 0.7691\n",
            "Epoch 29/200\n",
            "14/14 [==============================] - 1s 38ms/step - loss: 0.0000e+00 - accuracy: 0.9649 - val_loss: 0.0000e+00 - val_accuracy: 0.7551\n",
            "Epoch 30/200\n",
            "14/14 [==============================] - 1s 38ms/step - loss: 0.0000e+00 - accuracy: 0.9661 - val_loss: 0.0000e+00 - val_accuracy: 0.7348\n",
            "Epoch 31/200\n",
            "14/14 [==============================] - 1s 38ms/step - loss: 0.0000e+00 - accuracy: 0.9696 - val_loss: 0.0000e+00 - val_accuracy: 0.7457\n",
            "Epoch 32/200\n",
            "14/14 [==============================] - 1s 41ms/step - loss: 0.0000e+00 - accuracy: 0.9591 - val_loss: 0.0000e+00 - val_accuracy: 0.7239\n",
            "Epoch 33/200\n",
            "14/14 [==============================] - 1s 40ms/step - loss: 0.0000e+00 - accuracy: 0.9661 - val_loss: 0.0000e+00 - val_accuracy: 0.7395\n",
            "Epoch 34/200\n",
            "14/14 [==============================] - 1s 39ms/step - loss: 0.0000e+00 - accuracy: 0.9591 - val_loss: 0.0000e+00 - val_accuracy: 0.7332\n",
            "Epoch 35/200\n",
            "14/14 [==============================] - 1s 41ms/step - loss: 0.0000e+00 - accuracy: 0.9556 - val_loss: 0.0000e+00 - val_accuracy: 0.7348\n",
            "Epoch 36/200\n",
            "14/14 [==============================] - 1s 41ms/step - loss: 0.0000e+00 - accuracy: 0.9754 - val_loss: 0.0000e+00 - val_accuracy: 0.7441\n",
            "Epoch 37/200\n",
            "14/14 [==============================] - 1s 38ms/step - loss: 0.0000e+00 - accuracy: 0.9673 - val_loss: 0.0000e+00 - val_accuracy: 0.7317\n",
            "Epoch 38/200\n",
            "14/14 [==============================] - 1s 37ms/step - loss: 0.0000e+00 - accuracy: 0.9754 - val_loss: 0.0000e+00 - val_accuracy: 0.7488\n",
            "Epoch 39/200\n",
            "14/14 [==============================] - 1s 38ms/step - loss: 0.0000e+00 - accuracy: 0.9661 - val_loss: 0.0000e+00 - val_accuracy: 0.7348\n",
            "Epoch 40/200\n",
            "14/14 [==============================] - 0s 36ms/step - loss: 0.0000e+00 - accuracy: 0.9731 - val_loss: 0.0000e+00 - val_accuracy: 0.7441\n",
            "Epoch 41/200\n",
            "14/14 [==============================] - 1s 38ms/step - loss: 0.0000e+00 - accuracy: 0.9731 - val_loss: 0.0000e+00 - val_accuracy: 0.7036\n",
            "Epoch 42/200\n",
            "14/14 [==============================] - 1s 38ms/step - loss: 0.0000e+00 - accuracy: 0.9661 - val_loss: 0.0000e+00 - val_accuracy: 0.7441\n",
            "Epoch 43/200\n",
            "14/14 [==============================] - 1s 38ms/step - loss: 0.0000e+00 - accuracy: 0.9684 - val_loss: 0.0000e+00 - val_accuracy: 0.7192\n",
            "Epoch 44/200\n",
            "14/14 [==============================] - 1s 38ms/step - loss: 0.0000e+00 - accuracy: 0.9415 - val_loss: 0.0000e+00 - val_accuracy: 0.7457\n",
            "Epoch 45/200\n",
            "14/14 [==============================] - 1s 38ms/step - loss: 0.0000e+00 - accuracy: 0.9474 - val_loss: 0.0000e+00 - val_accuracy: 0.6630\n",
            "Epoch 46/200\n",
            "14/14 [==============================] - 1s 39ms/step - loss: 0.0000e+00 - accuracy: 0.9509 - val_loss: 0.0000e+00 - val_accuracy: 0.6552\n",
            "Epoch 47/200\n",
            "14/14 [==============================] - 1s 37ms/step - loss: 0.0000e+00 - accuracy: 0.9579 - val_loss: 0.0000e+00 - val_accuracy: 0.5507\n",
            "Epoch 48/200\n",
            "14/14 [==============================] - 1s 37ms/step - loss: 0.0000e+00 - accuracy: 0.9520 - val_loss: 0.0000e+00 - val_accuracy: 0.6786\n",
            "Epoch 49/200\n",
            "14/14 [==============================] - 1s 37ms/step - loss: 0.0000e+00 - accuracy: 0.9602 - val_loss: 0.0000e+00 - val_accuracy: 0.5585\n",
            "Epoch 50/200\n",
            "14/14 [==============================] - 1s 37ms/step - loss: 0.0000e+00 - accuracy: 0.9591 - val_loss: 0.0000e+00 - val_accuracy: 0.7488\n",
            "Epoch 51/200\n",
            "14/14 [==============================] - 1s 37ms/step - loss: 0.0000e+00 - accuracy: 0.9673 - val_loss: 0.0000e+00 - val_accuracy: 0.7067\n",
            "Epoch 52/200\n",
            "14/14 [==============================] - 1s 37ms/step - loss: 0.0000e+00 - accuracy: 0.9497 - val_loss: 0.0000e+00 - val_accuracy: 0.7488\n",
            "Epoch 53/200\n",
            "14/14 [==============================] - 1s 37ms/step - loss: 0.0000e+00 - accuracy: 0.9532 - val_loss: 0.0000e+00 - val_accuracy: 0.7332\n",
            "Epoch 54/200\n",
            "14/14 [==============================] - 1s 37ms/step - loss: 0.0000e+00 - accuracy: 0.9778 - val_loss: 0.0000e+00 - val_accuracy: 0.7254\n",
            "Epoch 55/200\n",
            "14/14 [==============================] - 1s 38ms/step - loss: 0.0000e+00 - accuracy: 0.9836 - val_loss: 0.0000e+00 - val_accuracy: 0.7114\n",
            "Epoch 56/200\n",
            "14/14 [==============================] - 1s 38ms/step - loss: 0.0000e+00 - accuracy: 0.9825 - val_loss: 0.0000e+00 - val_accuracy: 0.7317\n",
            "Epoch 57/200\n",
            "14/14 [==============================] - 1s 39ms/step - loss: 0.0000e+00 - accuracy: 0.9778 - val_loss: 0.0000e+00 - val_accuracy: 0.7363\n",
            "Epoch 58/200\n",
            "14/14 [==============================] - 1s 40ms/step - loss: 0.0000e+00 - accuracy: 0.9836 - val_loss: 0.0000e+00 - val_accuracy: 0.7270\n",
            "Epoch 59/200\n",
            "14/14 [==============================] - 1s 40ms/step - loss: 0.0000e+00 - accuracy: 0.9743 - val_loss: 0.0000e+00 - val_accuracy: 0.7379\n",
            "Epoch 60/200\n",
            "14/14 [==============================] - 1s 40ms/step - loss: 0.0000e+00 - accuracy: 0.9766 - val_loss: 0.0000e+00 - val_accuracy: 0.6771\n",
            "Epoch 61/200\n",
            "14/14 [==============================] - 1s 40ms/step - loss: 0.0000e+00 - accuracy: 0.9813 - val_loss: 0.0000e+00 - val_accuracy: 0.7145\n",
            "Epoch 62/200\n",
            "14/14 [==============================] - 1s 38ms/step - loss: 0.0000e+00 - accuracy: 0.9789 - val_loss: 0.0000e+00 - val_accuracy: 0.6958\n",
            "Epoch 63/200\n",
            "14/14 [==============================] - 1s 37ms/step - loss: 0.0000e+00 - accuracy: 0.9825 - val_loss: 0.0000e+00 - val_accuracy: 0.7176\n",
            "Epoch 64/200\n",
            "14/14 [==============================] - 1s 38ms/step - loss: 0.0000e+00 - accuracy: 0.9836 - val_loss: 0.0000e+00 - val_accuracy: 0.6521\n",
            "Epoch 65/200\n",
            "14/14 [==============================] - 1s 38ms/step - loss: 0.0000e+00 - accuracy: 0.9801 - val_loss: 0.0000e+00 - val_accuracy: 0.6927\n",
            "Epoch 66/200\n",
            "14/14 [==============================] - 1s 38ms/step - loss: 0.0000e+00 - accuracy: 0.9778 - val_loss: 0.0000e+00 - val_accuracy: 0.6474\n",
            "Epoch 67/200\n",
            "14/14 [==============================] - 1s 38ms/step - loss: 0.0000e+00 - accuracy: 0.9743 - val_loss: 0.0000e+00 - val_accuracy: 0.7192\n",
            "Epoch 68/200\n",
            "14/14 [==============================] - 1s 41ms/step - loss: 0.0000e+00 - accuracy: 0.9649 - val_loss: 0.0000e+00 - val_accuracy: 0.7348\n",
            "Epoch 69/200\n",
            "14/14 [==============================] - 1s 38ms/step - loss: 0.0000e+00 - accuracy: 0.9731 - val_loss: 0.0000e+00 - val_accuracy: 0.7410\n",
            "Epoch 70/200\n",
            "14/14 [==============================] - 1s 39ms/step - loss: 0.0000e+00 - accuracy: 0.9719 - val_loss: 0.0000e+00 - val_accuracy: 0.7520\n",
            "Epoch 71/200\n",
            "14/14 [==============================] - 1s 40ms/step - loss: 0.0000e+00 - accuracy: 0.9743 - val_loss: 0.0000e+00 - val_accuracy: 0.7192\n",
            "Epoch 72/200\n",
            "14/14 [==============================] - 1s 38ms/step - loss: 0.0000e+00 - accuracy: 0.9708 - val_loss: 0.0000e+00 - val_accuracy: 0.7223\n",
            "Epoch 73/200\n",
            "14/14 [==============================] - 0s 36ms/step - loss: 0.0000e+00 - accuracy: 0.9708 - val_loss: 0.0000e+00 - val_accuracy: 0.6895\n",
            "Epoch 74/200\n",
            "14/14 [==============================] - 1s 36ms/step - loss: 0.0000e+00 - accuracy: 0.9766 - val_loss: 0.0000e+00 - val_accuracy: 0.7207\n",
            "Epoch 75/200\n",
            "14/14 [==============================] - 1s 37ms/step - loss: 0.0000e+00 - accuracy: 0.9825 - val_loss: 0.0000e+00 - val_accuracy: 0.7441\n",
            "Epoch 76/200\n",
            "14/14 [==============================] - 1s 37ms/step - loss: 0.0000e+00 - accuracy: 0.9754 - val_loss: 0.0000e+00 - val_accuracy: 0.7395\n",
            "Epoch 77/200\n",
            "14/14 [==============================] - 0s 36ms/step - loss: 0.0000e+00 - accuracy: 0.9567 - val_loss: 0.0000e+00 - val_accuracy: 0.7098\n",
            "Epoch 78/200\n",
            "14/14 [==============================] - 1s 37ms/step - loss: 0.0000e+00 - accuracy: 0.9661 - val_loss: 0.0000e+00 - val_accuracy: 0.7051\n",
            "Epoch 79/200\n",
            "14/14 [==============================] - 0s 36ms/step - loss: 0.0000e+00 - accuracy: 0.9684 - val_loss: 0.0000e+00 - val_accuracy: 0.7129\n",
            "Epoch 80/200\n",
            "14/14 [==============================] - 1s 37ms/step - loss: 0.0000e+00 - accuracy: 0.9661 - val_loss: 0.0000e+00 - val_accuracy: 0.7254\n",
            "Epoch 81/200\n",
            "14/14 [==============================] - 1s 38ms/step - loss: 0.0000e+00 - accuracy: 0.9637 - val_loss: 0.0000e+00 - val_accuracy: 0.6817\n",
            "Epoch 82/200\n",
            "14/14 [==============================] - 1s 37ms/step - loss: 0.0000e+00 - accuracy: 0.9626 - val_loss: 0.0000e+00 - val_accuracy: 0.7379\n",
            "Epoch 83/200\n",
            "14/14 [==============================] - 1s 39ms/step - loss: 0.0000e+00 - accuracy: 0.9684 - val_loss: 0.0000e+00 - val_accuracy: 0.7441\n",
            "Epoch 84/200\n",
            "14/14 [==============================] - 1s 38ms/step - loss: 0.0000e+00 - accuracy: 0.9801 - val_loss: 0.0000e+00 - val_accuracy: 0.7395\n",
            "Epoch 85/200\n",
            "14/14 [==============================] - 1s 38ms/step - loss: 0.0000e+00 - accuracy: 0.9848 - val_loss: 0.0000e+00 - val_accuracy: 0.7332\n",
            "Epoch 86/200\n",
            "14/14 [==============================] - 1s 38ms/step - loss: 0.0000e+00 - accuracy: 0.9836 - val_loss: 0.0000e+00 - val_accuracy: 0.7410\n",
            "Epoch 87/200\n",
            "14/14 [==============================] - 1s 37ms/step - loss: 0.0000e+00 - accuracy: 0.9743 - val_loss: 0.0000e+00 - val_accuracy: 0.7285\n",
            "Epoch 88/200\n",
            "14/14 [==============================] - 1s 37ms/step - loss: 0.0000e+00 - accuracy: 0.9813 - val_loss: 0.0000e+00 - val_accuracy: 0.7348\n",
            "Epoch 89/200\n",
            "14/14 [==============================] - 1s 37ms/step - loss: 0.0000e+00 - accuracy: 0.9801 - val_loss: 0.0000e+00 - val_accuracy: 0.7410\n",
            "Epoch 90/200\n",
            "14/14 [==============================] - 0s 36ms/step - loss: 0.0000e+00 - accuracy: 0.9895 - val_loss: 0.0000e+00 - val_accuracy: 0.7410\n",
            "Epoch 91/200\n",
            "14/14 [==============================] - 1s 37ms/step - loss: 0.0000e+00 - accuracy: 0.9848 - val_loss: 0.0000e+00 - val_accuracy: 0.7176\n",
            "Epoch 92/200\n",
            "14/14 [==============================] - 1s 37ms/step - loss: 0.0000e+00 - accuracy: 0.9918 - val_loss: 0.0000e+00 - val_accuracy: 0.7239\n",
            "Epoch 93/200\n",
            "14/14 [==============================] - 1s 37ms/step - loss: 0.0000e+00 - accuracy: 0.9895 - val_loss: 0.0000e+00 - val_accuracy: 0.7270\n",
            "Epoch 94/200\n",
            "14/14 [==============================] - 0s 36ms/step - loss: 0.0000e+00 - accuracy: 0.9848 - val_loss: 0.0000e+00 - val_accuracy: 0.7254\n",
            "Epoch 95/200\n",
            "14/14 [==============================] - 1s 38ms/step - loss: 0.0000e+00 - accuracy: 0.9825 - val_loss: 0.0000e+00 - val_accuracy: 0.7426\n",
            "Epoch 96/200\n",
            "14/14 [==============================] - 1s 37ms/step - loss: 0.0000e+00 - accuracy: 0.9836 - val_loss: 0.0000e+00 - val_accuracy: 0.7488\n",
            "Epoch 97/200\n",
            "14/14 [==============================] - 1s 37ms/step - loss: 0.0000e+00 - accuracy: 0.9906 - val_loss: 0.0000e+00 - val_accuracy: 0.7457\n",
            "Epoch 98/200\n",
            "14/14 [==============================] - 1s 37ms/step - loss: 0.0000e+00 - accuracy: 0.9895 - val_loss: 0.0000e+00 - val_accuracy: 0.7379\n",
            "Epoch 99/200\n",
            "14/14 [==============================] - 1s 37ms/step - loss: 0.0000e+00 - accuracy: 0.9871 - val_loss: 0.0000e+00 - val_accuracy: 0.7488\n",
            "Epoch 100/200\n",
            "14/14 [==============================] - 1s 37ms/step - loss: 0.0000e+00 - accuracy: 0.9719 - val_loss: 0.0000e+00 - val_accuracy: 0.7426\n",
            "Epoch 101/200\n",
            "14/14 [==============================] - 1s 37ms/step - loss: 0.0000e+00 - accuracy: 0.9708 - val_loss: 0.0000e+00 - val_accuracy: 0.7488\n",
            "Epoch 102/200\n",
            "14/14 [==============================] - 1s 37ms/step - loss: 0.0000e+00 - accuracy: 0.9860 - val_loss: 0.0000e+00 - val_accuracy: 0.7285\n",
            "Epoch 103/200\n",
            "14/14 [==============================] - 1s 37ms/step - loss: 0.0000e+00 - accuracy: 0.9778 - val_loss: 0.0000e+00 - val_accuracy: 0.7239\n",
            "Epoch 104/200\n",
            "14/14 [==============================] - 1s 37ms/step - loss: 0.0000e+00 - accuracy: 0.9801 - val_loss: 0.0000e+00 - val_accuracy: 0.7348\n",
            "Epoch 105/200\n",
            "14/14 [==============================] - 1s 37ms/step - loss: 0.0000e+00 - accuracy: 0.9825 - val_loss: 0.0000e+00 - val_accuracy: 0.7317\n",
            "Epoch 106/200\n",
            "14/14 [==============================] - 1s 37ms/step - loss: 0.0000e+00 - accuracy: 0.9825 - val_loss: 0.0000e+00 - val_accuracy: 0.7285\n",
            "Epoch 107/200\n",
            "14/14 [==============================] - 1s 39ms/step - loss: 0.0000e+00 - accuracy: 0.9801 - val_loss: 0.0000e+00 - val_accuracy: 0.7535\n",
            "Epoch 108/200\n",
            "14/14 [==============================] - 1s 40ms/step - loss: 0.0000e+00 - accuracy: 0.9778 - val_loss: 0.0000e+00 - val_accuracy: 0.7379\n",
            "Epoch 109/200\n",
            "14/14 [==============================] - 1s 41ms/step - loss: 0.0000e+00 - accuracy: 0.9766 - val_loss: 0.0000e+00 - val_accuracy: 0.7239\n",
            "Epoch 110/200\n",
            "14/14 [==============================] - 1s 40ms/step - loss: 0.0000e+00 - accuracy: 0.9813 - val_loss: 0.0000e+00 - val_accuracy: 0.7317\n",
            "Epoch 111/200\n",
            "14/14 [==============================] - 1s 40ms/step - loss: 0.0000e+00 - accuracy: 0.9778 - val_loss: 0.0000e+00 - val_accuracy: 0.7332\n",
            "Epoch 112/200\n",
            "14/14 [==============================] - 1s 38ms/step - loss: 0.0000e+00 - accuracy: 0.9848 - val_loss: 0.0000e+00 - val_accuracy: 0.7285\n",
            "Epoch 113/200\n",
            "14/14 [==============================] - 1s 38ms/step - loss: 0.0000e+00 - accuracy: 0.9789 - val_loss: 0.0000e+00 - val_accuracy: 0.7285\n",
            "Epoch 114/200\n",
            "14/14 [==============================] - 1s 37ms/step - loss: 0.0000e+00 - accuracy: 0.9743 - val_loss: 0.0000e+00 - val_accuracy: 0.7317\n",
            "Epoch 115/200\n",
            "14/14 [==============================] - 1s 37ms/step - loss: 0.0000e+00 - accuracy: 0.9801 - val_loss: 0.0000e+00 - val_accuracy: 0.7348\n",
            "Epoch 116/200\n",
            "14/14 [==============================] - 1s 38ms/step - loss: 0.0000e+00 - accuracy: 0.9883 - val_loss: 0.0000e+00 - val_accuracy: 0.7410\n",
            "Epoch 117/200\n",
            "14/14 [==============================] - 1s 37ms/step - loss: 0.0000e+00 - accuracy: 0.9883 - val_loss: 0.0000e+00 - val_accuracy: 0.7348\n",
            "Epoch 118/200\n",
            "14/14 [==============================] - 1s 37ms/step - loss: 0.0000e+00 - accuracy: 0.9860 - val_loss: 0.0000e+00 - val_accuracy: 0.7379\n",
            "Epoch 119/200\n",
            "14/14 [==============================] - 1s 38ms/step - loss: 0.0000e+00 - accuracy: 0.9825 - val_loss: 0.0000e+00 - val_accuracy: 0.7379\n",
            "Epoch 120/200\n",
            "14/14 [==============================] - 1s 38ms/step - loss: 0.0000e+00 - accuracy: 0.9848 - val_loss: 0.0000e+00 - val_accuracy: 0.7317\n",
            "Epoch 121/200\n",
            "14/14 [==============================] - 1s 38ms/step - loss: 0.0000e+00 - accuracy: 0.9778 - val_loss: 0.0000e+00 - val_accuracy: 0.7441\n",
            "Epoch 122/200\n",
            "14/14 [==============================] - 1s 38ms/step - loss: 0.0000e+00 - accuracy: 0.9825 - val_loss: 0.0000e+00 - val_accuracy: 0.7457\n",
            "Epoch 123/200\n",
            "14/14 [==============================] - 1s 38ms/step - loss: 0.0000e+00 - accuracy: 0.9708 - val_loss: 0.0000e+00 - val_accuracy: 0.7410\n",
            "Epoch 124/200\n",
            "14/14 [==============================] - 0s 36ms/step - loss: 0.0000e+00 - accuracy: 0.9871 - val_loss: 0.0000e+00 - val_accuracy: 0.7317\n",
            "Epoch 125/200\n",
            "14/14 [==============================] - 1s 37ms/step - loss: 0.0000e+00 - accuracy: 0.9766 - val_loss: 0.0000e+00 - val_accuracy: 0.7348\n",
            "Epoch 126/200\n",
            "14/14 [==============================] - 1s 38ms/step - loss: 0.0000e+00 - accuracy: 0.9801 - val_loss: 0.0000e+00 - val_accuracy: 0.7301\n",
            "Epoch 127/200\n",
            "14/14 [==============================] - 1s 38ms/step - loss: 0.0000e+00 - accuracy: 0.9813 - val_loss: 0.0000e+00 - val_accuracy: 0.7301\n",
            "Epoch 128/200\n",
            "14/14 [==============================] - 1s 38ms/step - loss: 0.0000e+00 - accuracy: 0.9813 - val_loss: 0.0000e+00 - val_accuracy: 0.7270\n",
            "Epoch 129/200\n",
            "14/14 [==============================] - 1s 38ms/step - loss: 0.0000e+00 - accuracy: 0.9801 - val_loss: 0.0000e+00 - val_accuracy: 0.7301\n",
            "Epoch 130/200\n",
            "14/14 [==============================] - 1s 37ms/step - loss: 0.0000e+00 - accuracy: 0.9848 - val_loss: 0.0000e+00 - val_accuracy: 0.7270\n",
            "Epoch 131/200\n",
            "14/14 [==============================] - 1s 39ms/step - loss: 0.0000e+00 - accuracy: 0.9778 - val_loss: 0.0000e+00 - val_accuracy: 0.7332\n",
            "Epoch 132/200\n",
            "14/14 [==============================] - 1s 40ms/step - loss: 0.0000e+00 - accuracy: 0.9801 - val_loss: 0.0000e+00 - val_accuracy: 0.7379\n",
            "Epoch 133/200\n",
            "14/14 [==============================] - 1s 39ms/step - loss: 0.0000e+00 - accuracy: 0.9836 - val_loss: 0.0000e+00 - val_accuracy: 0.7270\n",
            "Epoch 134/200\n",
            "14/14 [==============================] - 1s 38ms/step - loss: 0.0000e+00 - accuracy: 0.9813 - val_loss: 0.0000e+00 - val_accuracy: 0.7270\n",
            "Epoch 135/200\n",
            "14/14 [==============================] - 1s 39ms/step - loss: 0.0000e+00 - accuracy: 0.9895 - val_loss: 0.0000e+00 - val_accuracy: 0.7239\n",
            "Epoch 136/200\n",
            "14/14 [==============================] - 1s 39ms/step - loss: 0.0000e+00 - accuracy: 0.9766 - val_loss: 0.0000e+00 - val_accuracy: 0.7301\n",
            "Epoch 137/200\n",
            "14/14 [==============================] - 1s 38ms/step - loss: 0.0000e+00 - accuracy: 0.9895 - val_loss: 0.0000e+00 - val_accuracy: 0.7270\n",
            "Epoch 138/200\n",
            "14/14 [==============================] - 1s 37ms/step - loss: 0.0000e+00 - accuracy: 0.9906 - val_loss: 0.0000e+00 - val_accuracy: 0.7285\n",
            "Epoch 139/200\n",
            "14/14 [==============================] - 1s 37ms/step - loss: 0.0000e+00 - accuracy: 0.9836 - val_loss: 0.0000e+00 - val_accuracy: 0.7301\n",
            "Epoch 140/200\n",
            "14/14 [==============================] - 1s 37ms/step - loss: 0.0000e+00 - accuracy: 0.9895 - val_loss: 0.0000e+00 - val_accuracy: 0.7239\n",
            "Epoch 141/200\n",
            "14/14 [==============================] - 1s 37ms/step - loss: 0.0000e+00 - accuracy: 0.9848 - val_loss: 0.0000e+00 - val_accuracy: 0.7285\n",
            "Epoch 142/200\n",
            "14/14 [==============================] - 1s 38ms/step - loss: 0.0000e+00 - accuracy: 0.9848 - val_loss: 0.0000e+00 - val_accuracy: 0.6849\n",
            "Epoch 143/200\n",
            "14/14 [==============================] - 1s 37ms/step - loss: 0.0000e+00 - accuracy: 0.9801 - val_loss: 0.0000e+00 - val_accuracy: 0.7129\n",
            "Epoch 144/200\n",
            "14/14 [==============================] - 1s 38ms/step - loss: 0.0000e+00 - accuracy: 0.9789 - val_loss: 0.0000e+00 - val_accuracy: 0.7239\n",
            "Epoch 145/200\n",
            "14/14 [==============================] - 1s 38ms/step - loss: 0.0000e+00 - accuracy: 0.9895 - val_loss: 0.0000e+00 - val_accuracy: 0.7270\n",
            "Epoch 146/200\n",
            "14/14 [==============================] - 1s 38ms/step - loss: 0.0000e+00 - accuracy: 0.9825 - val_loss: 0.0000e+00 - val_accuracy: 0.7363\n",
            "Epoch 147/200\n",
            "14/14 [==============================] - 1s 38ms/step - loss: 0.0000e+00 - accuracy: 0.9825 - val_loss: 0.0000e+00 - val_accuracy: 0.7270\n",
            "Epoch 148/200\n",
            "14/14 [==============================] - 1s 40ms/step - loss: 0.0000e+00 - accuracy: 0.9801 - val_loss: 0.0000e+00 - val_accuracy: 0.7207\n",
            "Epoch 149/200\n",
            "14/14 [==============================] - 1s 38ms/step - loss: 0.0000e+00 - accuracy: 0.9836 - val_loss: 0.0000e+00 - val_accuracy: 0.7348\n",
            "Epoch 150/200\n",
            "14/14 [==============================] - 1s 39ms/step - loss: 0.0000e+00 - accuracy: 0.9871 - val_loss: 0.0000e+00 - val_accuracy: 0.7223\n",
            "Epoch 151/200\n",
            "14/14 [==============================] - 1s 38ms/step - loss: 0.0000e+00 - accuracy: 0.9871 - val_loss: 0.0000e+00 - val_accuracy: 0.7161\n",
            "Epoch 152/200\n",
            "14/14 [==============================] - 1s 37ms/step - loss: 0.0000e+00 - accuracy: 0.9871 - val_loss: 0.0000e+00 - val_accuracy: 0.7192\n",
            "Epoch 153/200\n",
            "14/14 [==============================] - 1s 37ms/step - loss: 0.0000e+00 - accuracy: 0.9918 - val_loss: 0.0000e+00 - val_accuracy: 0.7285\n",
            "Epoch 154/200\n",
            "14/14 [==============================] - 1s 37ms/step - loss: 0.0000e+00 - accuracy: 0.9895 - val_loss: 0.0000e+00 - val_accuracy: 0.7395\n",
            "Epoch 155/200\n",
            "14/14 [==============================] - 1s 38ms/step - loss: 0.0000e+00 - accuracy: 0.9825 - val_loss: 0.0000e+00 - val_accuracy: 0.7332\n",
            "Epoch 156/200\n",
            "14/14 [==============================] - 1s 40ms/step - loss: 0.0000e+00 - accuracy: 0.9825 - val_loss: 0.0000e+00 - val_accuracy: 0.7114\n",
            "Epoch 157/200\n",
            "14/14 [==============================] - 1s 39ms/step - loss: 0.0000e+00 - accuracy: 0.9895 - val_loss: 0.0000e+00 - val_accuracy: 0.7114\n",
            "Epoch 158/200\n",
            "14/14 [==============================] - 1s 40ms/step - loss: 0.0000e+00 - accuracy: 0.9895 - val_loss: 0.0000e+00 - val_accuracy: 0.7129\n",
            "Epoch 159/200\n",
            "14/14 [==============================] - 1s 40ms/step - loss: 0.0000e+00 - accuracy: 0.9871 - val_loss: 0.0000e+00 - val_accuracy: 0.7114\n",
            "Epoch 160/200\n",
            "14/14 [==============================] - 1s 38ms/step - loss: 0.0000e+00 - accuracy: 0.9895 - val_loss: 0.0000e+00 - val_accuracy: 0.7239\n",
            "Epoch 161/200\n",
            "14/14 [==============================] - 1s 39ms/step - loss: 0.0000e+00 - accuracy: 0.9813 - val_loss: 0.0000e+00 - val_accuracy: 0.7114\n",
            "Epoch 162/200\n",
            "14/14 [==============================] - 0s 36ms/step - loss: 0.0000e+00 - accuracy: 0.9895 - val_loss: 0.0000e+00 - val_accuracy: 0.7114\n",
            "Epoch 163/200\n",
            "14/14 [==============================] - 1s 36ms/step - loss: 0.0000e+00 - accuracy: 0.9789 - val_loss: 0.0000e+00 - val_accuracy: 0.7192\n",
            "Epoch 164/200\n",
            "14/14 [==============================] - 0s 36ms/step - loss: 0.0000e+00 - accuracy: 0.9871 - val_loss: 0.0000e+00 - val_accuracy: 0.7114\n",
            "Epoch 165/200\n",
            "14/14 [==============================] - 1s 37ms/step - loss: 0.0000e+00 - accuracy: 0.9836 - val_loss: 0.0000e+00 - val_accuracy: 0.7223\n",
            "Epoch 166/200\n",
            "14/14 [==============================] - 0s 36ms/step - loss: 0.0000e+00 - accuracy: 0.9883 - val_loss: 0.0000e+00 - val_accuracy: 0.7317\n",
            "Epoch 167/200\n",
            "14/14 [==============================] - 1s 37ms/step - loss: 0.0000e+00 - accuracy: 0.9731 - val_loss: 0.0000e+00 - val_accuracy: 0.7161\n",
            "Epoch 168/200\n",
            "14/14 [==============================] - 1s 37ms/step - loss: 0.0000e+00 - accuracy: 0.9918 - val_loss: 0.0000e+00 - val_accuracy: 0.7332\n",
            "Epoch 169/200\n",
            "14/14 [==============================] - 1s 38ms/step - loss: 0.0000e+00 - accuracy: 0.9906 - val_loss: 0.0000e+00 - val_accuracy: 0.7317\n",
            "Epoch 170/200\n",
            "14/14 [==============================] - 1s 37ms/step - loss: 0.0000e+00 - accuracy: 0.9895 - val_loss: 0.0000e+00 - val_accuracy: 0.7348\n",
            "Epoch 171/200\n",
            "14/14 [==============================] - 1s 37ms/step - loss: 0.0000e+00 - accuracy: 0.9918 - val_loss: 0.0000e+00 - val_accuracy: 0.7301\n",
            "Epoch 172/200\n",
            "14/14 [==============================] - 0s 36ms/step - loss: 0.0000e+00 - accuracy: 0.9895 - val_loss: 0.0000e+00 - val_accuracy: 0.7301\n",
            "Epoch 173/200\n",
            "14/14 [==============================] - 1s 38ms/step - loss: 0.0000e+00 - accuracy: 0.9848 - val_loss: 0.0000e+00 - val_accuracy: 0.7285\n",
            "Epoch 174/200\n",
            "14/14 [==============================] - 1s 37ms/step - loss: 0.0000e+00 - accuracy: 0.9848 - val_loss: 0.0000e+00 - val_accuracy: 0.7098\n",
            "Epoch 175/200\n",
            "14/14 [==============================] - 1s 37ms/step - loss: 0.0000e+00 - accuracy: 0.9883 - val_loss: 0.0000e+00 - val_accuracy: 0.7067\n",
            "Epoch 176/200\n",
            "14/14 [==============================] - 0s 36ms/step - loss: 0.0000e+00 - accuracy: 0.9895 - val_loss: 0.0000e+00 - val_accuracy: 0.7114\n",
            "Epoch 177/200\n",
            "14/14 [==============================] - 1s 37ms/step - loss: 0.0000e+00 - accuracy: 0.9918 - val_loss: 0.0000e+00 - val_accuracy: 0.7176\n",
            "Epoch 178/200\n",
            "14/14 [==============================] - 1s 37ms/step - loss: 0.0000e+00 - accuracy: 0.9883 - val_loss: 0.0000e+00 - val_accuracy: 0.7317\n",
            "Epoch 179/200\n",
            "14/14 [==============================] - 1s 39ms/step - loss: 0.0000e+00 - accuracy: 0.9918 - val_loss: 0.0000e+00 - val_accuracy: 0.7473\n",
            "Epoch 180/200\n",
            "14/14 [==============================] - 1s 39ms/step - loss: 0.0000e+00 - accuracy: 0.9965 - val_loss: 0.0000e+00 - val_accuracy: 0.7363\n",
            "Epoch 181/200\n",
            "14/14 [==============================] - 1s 40ms/step - loss: 0.0000e+00 - accuracy: 0.9988 - val_loss: 0.0000e+00 - val_accuracy: 0.7332\n",
            "Epoch 182/200\n",
            "14/14 [==============================] - 1s 39ms/step - loss: 0.0000e+00 - accuracy: 0.9965 - val_loss: 0.0000e+00 - val_accuracy: 0.7473\n",
            "Epoch 183/200\n",
            "14/14 [==============================] - 1s 40ms/step - loss: 0.0000e+00 - accuracy: 0.9860 - val_loss: 0.0000e+00 - val_accuracy: 0.7473\n",
            "Epoch 184/200\n",
            "14/14 [==============================] - 1s 40ms/step - loss: 0.0000e+00 - accuracy: 0.9860 - val_loss: 0.0000e+00 - val_accuracy: 0.7332\n",
            "Epoch 185/200\n",
            "14/14 [==============================] - 1s 40ms/step - loss: 0.0000e+00 - accuracy: 0.9942 - val_loss: 0.0000e+00 - val_accuracy: 0.7270\n",
            "Epoch 186/200\n",
            "14/14 [==============================] - 1s 39ms/step - loss: 0.0000e+00 - accuracy: 0.9906 - val_loss: 0.0000e+00 - val_accuracy: 0.7317\n",
            "Epoch 187/200\n",
            "14/14 [==============================] - 1s 38ms/step - loss: 0.0000e+00 - accuracy: 0.9930 - val_loss: 0.0000e+00 - val_accuracy: 0.7379\n",
            "Epoch 188/200\n",
            "14/14 [==============================] - 1s 38ms/step - loss: 0.0000e+00 - accuracy: 0.9895 - val_loss: 0.0000e+00 - val_accuracy: 0.7363\n",
            "Epoch 189/200\n",
            "14/14 [==============================] - 1s 38ms/step - loss: 0.0000e+00 - accuracy: 0.9871 - val_loss: 0.0000e+00 - val_accuracy: 0.7473\n",
            "Epoch 190/200\n",
            "14/14 [==============================] - 1s 38ms/step - loss: 0.0000e+00 - accuracy: 0.9848 - val_loss: 0.0000e+00 - val_accuracy: 0.7239\n",
            "Epoch 191/200\n",
            "14/14 [==============================] - 1s 37ms/step - loss: 0.0000e+00 - accuracy: 0.9906 - val_loss: 0.0000e+00 - val_accuracy: 0.7332\n",
            "Epoch 192/200\n",
            "14/14 [==============================] - 1s 37ms/step - loss: 0.0000e+00 - accuracy: 0.9930 - val_loss: 0.0000e+00 - val_accuracy: 0.7301\n",
            "Epoch 193/200\n",
            "14/14 [==============================] - 1s 38ms/step - loss: 0.0000e+00 - accuracy: 0.9836 - val_loss: 0.0000e+00 - val_accuracy: 0.7379\n",
            "Epoch 194/200\n",
            "14/14 [==============================] - 1s 37ms/step - loss: 0.0000e+00 - accuracy: 0.9906 - val_loss: 0.0000e+00 - val_accuracy: 0.7223\n",
            "Epoch 195/200\n",
            "14/14 [==============================] - 1s 37ms/step - loss: 0.0000e+00 - accuracy: 0.9860 - val_loss: 0.0000e+00 - val_accuracy: 0.7254\n",
            "Epoch 196/200\n",
            "14/14 [==============================] - 1s 39ms/step - loss: 0.0000e+00 - accuracy: 0.9918 - val_loss: 0.0000e+00 - val_accuracy: 0.7067\n",
            "Epoch 197/200\n",
            "14/14 [==============================] - 0s 37ms/step - loss: 0.0000e+00 - accuracy: 0.9848 - val_loss: 0.0000e+00 - val_accuracy: 0.7145\n",
            "Epoch 198/200\n",
            "14/14 [==============================] - 1s 38ms/step - loss: 0.0000e+00 - accuracy: 0.9906 - val_loss: 0.0000e+00 - val_accuracy: 0.7457\n",
            "Epoch 199/200\n",
            "14/14 [==============================] - 1s 37ms/step - loss: 0.0000e+00 - accuracy: 0.9871 - val_loss: 0.0000e+00 - val_accuracy: 0.7285\n",
            "Epoch 200/200\n",
            "14/14 [==============================] - 0s 37ms/step - loss: 0.0000e+00 - accuracy: 0.9883 - val_loss: 0.0000e+00 - val_accuracy: 0.7426\n"
          ]
        }
      ]
    },
    {
      "cell_type": "code",
      "source": [
        "train_loss = history.history['loss'][5:]\n",
        "val_loss = history.history['val_loss'][5:]\n",
        "train_acc = history.history['accuracy'][5:]\n",
        "val_acc = history.history['val_accuracy'][5:]\n",
        "\n",
        "epoch_count = range(1,len(train_acc)+1)\n",
        "\n",
        "plt.subplots(1,2)\n",
        "plt.subplot(1,2,1)\n",
        "plt.plot(epoch_count, train_loss, 'r--')\n",
        "plt.plot(epoch_count, val_acc,'b-')\n",
        "plt.legend(['Training Loss','val_loss'])\n",
        "plt.xlabel('Epoch')\n",
        "plt.ylabel('loss')\n",
        "\n",
        "plt.subplot(1,2,2)\n",
        "plt.plot(epoch_count, train_acc,'r--')\n",
        "plt.plot(epoch_count, val_acc, 'b-')\n",
        "plt.legend(['Training Accuracy', 'Validation Accuracy'])\n",
        "plt.xlabel('Epoch')\n",
        "plt.ylabel('Accuracy')\n",
        "\n",
        "plt.tight_layout()\n",
        "plt.show()"
      ],
      "metadata": {
        "id": "MZqbZOgqq_29",
        "colab": {
          "base_uri": "https://localhost:8080/",
          "height": 486
        },
        "outputId": "4d7a12d3-bff3-42c8-dc4f-79abf83bc7a0"
      },
      "execution_count": 60,
      "outputs": [
        {
          "output_type": "display_data",
          "data": {
            "text/plain": [
              "<Figure size 640x480 with 2 Axes>"
            ],
            "image/png": "[encoded data removed]"
          },
          "metadata": {}
        }
      ]
    },
    {
      "cell_type": "code",
      "source": [
        "print(\"Evaluate on test data\")\n",
        "results = model.evaluate(x_test_reshaped, y_test, batch_size = 128)\n",
        "print(\"test loss, test acc:\", results)\n",
        "predictions = model.predict(x_test_reshaped)\n",
        "print('predoctions shape: ', predictions.shape)\n"
      ],
      "metadata": {
        "id": "PUpZwH8ZusX_",
        "colab": {
          "base_uri": "https://localhost:8080/"
        },
        "outputId": "35d50c16-c671-4fb5-e99f-b6d6603371b5"
      },
      "execution_count": 61,
      "outputs": [
        {
          "output_type": "stream",
          "name": "stdout",
          "text": [
            "Evaluate on test data\n",
            "6/6 [==============================] - 0s 25ms/step - loss: 0.0000e+00 - accuracy: 0.7181\n",
            "test loss, test acc: [0.0, 0.718068540096283]\n",
            "21/21 [==============================] - 3s 9ms/step\n",
            "predoctions shape:  (642, 1)\n"
          ]
        }
      ]
    },
    {
      "cell_type": "code",
      "source": [
        "from sklearn import metrics\n",
        "fpr, tpr, thresholds = metrics.roc_curve(y_test, predictions)"
      ],
      "metadata": {
        "id": "d8iHlI-lxePH"
      },
      "execution_count": 62,
      "outputs": []
    },
    {
      "cell_type": "code",
      "source": [
        "ns_probs = [0 for _ in range(len(y_test))]\n",
        "ns_fpr, ns_tpr, _ = metrics.roc_curve(y_test, ns_probs)"
      ],
      "metadata": {
        "id": "8mSl2MrwyQKJ"
      },
      "execution_count": 63,
      "outputs": []
    },
    {
      "cell_type": "code",
      "source": [
        "plt.plot(fpr, tpr, linestyle = '--', label = 'roc_auc_curve')\n",
        "plt.plot(ns_fpr, ns_tpr, linestyle = '--', label = 'No Skill')\n",
        "\n",
        "plt.xlabel('False Positive Rate')\n",
        "plt.ylabel('True Positive Rate')\n",
        "\n",
        "plt.legend()\n",
        "\n",
        "plt.title('ROC AUC Curve')\n",
        "plt.show()"
      ],
      "metadata": {
        "id": "5nmohvyW4i_C",
        "colab": {
          "base_uri": "https://localhost:8080/",
          "height": 472
        },
        "outputId": "884853ff-6e2f-4bea-f0a2-a8822fcf538a"
      },
      "execution_count": 64,
      "outputs": [
        {
          "output_type": "display_data",
          "data": {
            "text/plain": [
              "<Figure size 640x480 with 1 Axes>"
            ],
            "image/png": "[encoded data removed]"
          },
          "metadata": {}
        }
      ]
    },
    {
      "cell_type": "code",
      "source": [
        "from sklearn.metrics import confusion_matrix\n",
        "cf_matrix = confusion_matrix(y_test, predictions.round())\n",
        "print(confusion_matrix(y_test, predictions.round()))"
      ],
      "metadata": {
        "colab": {
          "base_uri": "https://localhost:8080/"
        },
        "id": "wKPSv6S8pkGk",
        "outputId": "5974f417-2a44-4094-ddec-9b44ff902841"
      },
      "execution_count": 65,
      "outputs": [
        {
          "output_type": "stream",
          "name": "stdout",
          "text": [
            "[[400  71]\n",
            " [110  61]]\n"
          ]
        }
      ]
    },
    {
      "cell_type": "code",
      "source": [
        "from sklearn.metrics import confusion_matrix\n",
        "import seaborn as sns\n",
        "\n",
        "if 'y_test' in locals() and 'predictions' in locals():\n",
        "    cm = confusion_matrix(y_test, predictions.round())\n",
        "    plt.figure(figsize=(6, 6))\n",
        "    sns.heatmap(cm, annot=True, fmt='d', cmap='Blues', xticklabels=['Pred 0', 'Pred 1'], yticklabels=['True 0', 'True 1'])\n",
        "    plt.xlabel('Predicted')\n",
        "    plt.ylabel('True')\n",
        "    plt.title('Confusion Matrix')\n",
        "    plt.show()\n",
        "else:\n",
        "    print(\"Test labels or predictions not available.\")\n"
      ],
      "metadata": {
        "colab": {
          "base_uri": "https://localhost:8080/",
          "height": 564
        },
        "id": "i4PczMpuqCnY",
        "outputId": "be2938ce-59bc-427e-c938-82b389ca5a9b"
      },
      "execution_count": 66,
      "outputs": [
        {
          "output_type": "display_data",
          "data": {
            "text/plain": [
              "<Figure size 600x600 with 2 Axes>"
            ],
            "image/png": "[encoded data removed]"
          },
          "metadata": {}
        }
      ]
    },
    {
      "cell_type": "code",
      "source": [
        "from sklearn.metrics import classification_report\n",
        "print(classification_report(y_test, predictions.round()))"
      ],
      "metadata": {
        "colab": {
          "base_uri": "https://localhost:8080/"
        },
        "id": "FbnK9Tqkqehq",
        "outputId": "846eec48-52cd-41a1-e4e8-a3fd249c8319"
      },
      "execution_count": 67,
      "outputs": [
        {
          "output_type": "stream",
          "name": "stdout",
          "text": [
            "              precision    recall  f1-score   support\n",
            "\n",
            "           0       0.78      0.85      0.82       471\n",
            "           1       0.46      0.36      0.40       171\n",
            "\n",
            "    accuracy                           0.72       642\n",
            "   macro avg       0.62      0.60      0.61       642\n",
            "weighted avg       0.70      0.72      0.71       642\n",
            "\n"
          ]
        }
      ]
    },
    {
      "cell_type": "code",
      "source": [
        "model.save('200RNNl.h5')\n",
        "print(model.summary())"
      ],
      "metadata": {
        "colab": {
          "base_uri": "https://localhost:8080/"
        },
        "id": "XcdljAqBqvIY",
        "outputId": "48eb9fc3-79bb-4b57-8861-0fc262766cd5"
      },
      "execution_count": 69,
      "outputs": [
        {
          "output_type": "stream",
          "name": "stdout",
          "text": [
            "Model: \"sequential_7\"\n",
            "_________________________________________________________________\n",
            " Layer (type)                Output Shape              Param #   \n",
            "=================================================================\n",
            " bidirectional_12 (Bidirect  (None, 20, 256)           4831232   \n",
            " ional)                                                          \n",
            "                                                                 \n",
            " batch_normalization_16 (Ba  (None, 20, 256)           1024      \n",
            " tchNormalization)                                               \n",
            "                                                                 \n",
            " dropout_16 (Dropout)        (None, 20, 256)           0         \n",
            "                                                                 \n",
            " bidirectional_13 (Bidirect  (None, 20, 256)           394240    \n",
            " ional)                                                          \n",
            "                                                                 \n",
            " batch_normalization_17 (Ba  (None, 20, 256)           1024      \n",
            " tchNormalization)                                               \n",
            "                                                                 \n",
            " dropout_17 (Dropout)        (None, 20, 256)           0         \n",
            "                                                                 \n",
            " bidirectional_14 (Bidirect  (None, 128)               164352    \n",
            " ional)                                                          \n",
            "                                                                 \n",
            " batch_normalization_18 (Ba  (None, 128)               512       \n",
            " tchNormalization)                                               \n",
            "                                                                 \n",
            " dropout_18 (Dropout)        (None, 128)               0         \n",
            "                                                                 \n",
            " dense_6 (Dense)             (None, 64)                8256      \n",
            "                                                                 \n",
            " batch_normalization_19 (Ba  (None, 64)                256       \n",
            " tchNormalization)                                               \n",
            "                                                                 \n",
            " dropout_19 (Dropout)        (None, 64)                0         \n",
            "                                                                 \n",
            " dense_7 (Dense)             (None, 1)                 65        \n",
            "                                                                 \n",
            "=================================================================\n",
            "Total params: 5400961 (20.60 MB)\n",
            "Trainable params: 5399553 (20.60 MB)\n",
            "Non-trainable params: 1408 (5.50 KB)\n",
            "_________________________________________________________________\n",
            "None\n"
          ]
        }
      ]
    },
    {
      "cell_type": "code",
      "source": [
        "model.save_weights('200RNNmodel_weights.h5')"
      ],
      "metadata": {
        "id": "-91uzgPHq8-j"
      },
      "execution_count": 70,
      "outputs": []
    },
    {
      "cell_type": "code",
      "source": [],
      "metadata": {
        "id": "afpIdCF67LPd"
      },
      "execution_count": null,
      "outputs": []
    }
  ]
}